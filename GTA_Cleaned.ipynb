{
  "nbformat": 4,
  "nbformat_minor": 0,
  "metadata": {
    "kernelspec": {
      "display_name": "Python 3",
      "language": "python",
      "name": "python3"
    },
    "language_info": {
      "codemirror_mode": {
        "name": "ipython",
        "version": 3
      },
      "file_extension": ".py",
      "mimetype": "text/x-python",
      "name": "python",
      "nbconvert_exporter": "python",
      "pygments_lexer": "ipython3",
      "version": "3.8.5"
    },
    "colab": {
      "name": "GTA-Cleaned.ipynb",
      "provenance": [],
      "collapsed_sections": []
    }
  },
  "cells": [
    {
      "cell_type": "markdown",
      "metadata": {
        "id": "W9gTID0JW1j2"
      },
      "source": [
        "##Import packages & load data"
      ]
    },
    {
      "cell_type": "code",
      "metadata": {
        "id": "srM8OZVePBQj"
      },
      "source": [
        "import pandas as pd\n",
        "import numpy as np\n",
        "from numpy import where\n",
        "\n",
        "#!pip install autoimpute\n",
        "from autoimpute.imputations import SingleImputer\n",
        "\n",
        "from sklearn.preprocessing import StandardScaler, MinMaxScaler"
      ],
      "execution_count": 51,
      "outputs": []
    },
    {
      "cell_type": "code",
      "metadata": {
        "colab": {
          "base_uri": "https://localhost:8080/"
        },
        "id": "2AHoq8MVP4L0",
        "outputId": "342c6a29-81b5-4104-bc4b-f3aa5da4736a"
      },
      "source": [
        "from google.colab import drive\n",
        "drive.mount('/content/drive')"
      ],
      "execution_count": 3,
      "outputs": [
        {
          "output_type": "stream",
          "text": [
            "Mounted at /content/drive\n"
          ],
          "name": "stdout"
        }
      ]
    },
    {
      "cell_type": "code",
      "metadata": {
        "id": "qIZbo7iaPBQm"
      },
      "source": [
        "# Read the excel dataset\n",
        "df = pd.read_excel('/content/drive/MyDrive/MMAI/Finance/Alfred_Dataset.xlsx')"
      ],
      "execution_count": 4,
      "outputs": []
    },
    {
      "cell_type": "code",
      "metadata": {
        "colab": {
          "base_uri": "https://localhost:8080/",
          "height": 223
        },
        "id": "fuoJZTRGPBQn",
        "outputId": "688791b0-69f2-4ce0-f16b-63ae3d574c8f"
      },
      "source": [
        "# check sample\n",
        "print(df.shape)\n",
        "df.head(3)"
      ],
      "execution_count": 6,
      "outputs": [
        {
          "output_type": "stream",
          "text": [
            "(180, 36)\n"
          ],
          "name": "stdout"
        },
        {
          "output_type": "execute_result",
          "data": {
            "text/html": [
              "<div>\n",
              "<style scoped>\n",
              "    .dataframe tbody tr th:only-of-type {\n",
              "        vertical-align: middle;\n",
              "    }\n",
              "\n",
              "    .dataframe tbody tr th {\n",
              "        vertical-align: top;\n",
              "    }\n",
              "\n",
              "    .dataframe thead th {\n",
              "        text-align: right;\n",
              "    }\n",
              "</style>\n",
              "<table border=\"1\" class=\"dataframe\">\n",
              "  <thead>\n",
              "    <tr style=\"text-align: right;\">\n",
              "      <th></th>\n",
              "      <th>Date</th>\n",
              "      <th>Target_GreaterToronto_Single_Family_HPI</th>\n",
              "      <th>1Yr_MetroOntario_CPI_All</th>\n",
              "      <th>1M_MetroOntario_CPI_all</th>\n",
              "      <th>1Yr_MetroOntario_CPI_Shelter</th>\n",
              "      <th>1M_MetroOntario_CPI_Shelter</th>\n",
              "      <th>Month</th>\n",
              "      <th>1Yr_Lag</th>\n",
              "      <th>1M_Lag</th>\n",
              "      <th>1Yr_GreaterVancounver_Single_Family_HPI</th>\n",
              "      <th>1M_GreaterVancounver_Single_Family_HPI</th>\n",
              "      <th>1Yr_Calgary_Single_Family_HPI</th>\n",
              "      <th>1M_Calgary_Single_Family_HPI</th>\n",
              "      <th>1Yr_Montreal_Single_Family_HPI</th>\n",
              "      <th>1M_Montreal_Single_Family_HPI</th>\n",
              "      <th>1M_RealEstate_GDP_Trading_AdjustedConstant_BasePrice</th>\n",
              "      <th>1Yr_RealEstate_GDP_Trading_AdjustedConstant_BasePrice</th>\n",
              "      <th>1Yr_RetailSales_Toronto</th>\n",
              "      <th>1M_RetailSales_Toronto</th>\n",
              "      <th>1M_Avg_Temperature</th>\n",
              "      <th>1Yr_Avg_Temp</th>\n",
              "      <th>1M_Snow_onGround</th>\n",
              "      <th>1Yr_Snow_onGround</th>\n",
              "      <th>1Yr_Toronto_Median_Annual_Income_Couple_Families</th>\n",
              "      <th>1Yr_Toronto_Median_Annual_Income_Lone_Parent_Families</th>\n",
              "      <th>1M_Toronto_ConstructionCompletionsUnits</th>\n",
              "      <th>1Yr_Toronto_ConstructionCompletionsUnits</th>\n",
              "      <th>1M_Toronto_ConstructionStartsUnits</th>\n",
              "      <th>1Yr_Toronto_ConstructionStartsUnits</th>\n",
              "      <th>1M_Toronto_UnempRate_15_54_yrs</th>\n",
              "      <th>1Yr_BankRate_Canada</th>\n",
              "      <th>1M_BankRate_Canada</th>\n",
              "      <th>1M_Population</th>\n",
              "      <th>1Y_S&amp;P500_Close</th>\n",
              "      <th>1M_S&amp;P500_Close</th>\n",
              "      <th>1Y_Bachelors_Degree_Ontario_NewReg</th>\n",
              "    </tr>\n",
              "  </thead>\n",
              "  <tbody>\n",
              "    <tr>\n",
              "      <th>0</th>\n",
              "      <td>2006-01-01</td>\n",
              "      <td>106.4</td>\n",
              "      <td>105.1</td>\n",
              "      <td>107.6</td>\n",
              "      <td>107.4</td>\n",
              "      <td>110.2</td>\n",
              "      <td>1</td>\n",
              "      <td>100.0</td>\n",
              "      <td>105.7</td>\n",
              "      <td>100.0</td>\n",
              "      <td>110.4</td>\n",
              "      <td>100.0</td>\n",
              "      <td>114.7</td>\n",
              "      <td>100.0</td>\n",
              "      <td>103.8</td>\n",
              "      <td>14281</td>\n",
              "      <td>119542</td>\n",
              "      <td>4437136</td>\n",
              "      <td>4486253</td>\n",
              "      <td>-3.446452</td>\n",
              "      <td>-6.829677</td>\n",
              "      <td>1.348387</td>\n",
              "      <td>1.070968</td>\n",
              "      <td>69900.0</td>\n",
              "      <td>31600.0</td>\n",
              "      <td>3296</td>\n",
              "      <td>3173</td>\n",
              "      <td>3401</td>\n",
              "      <td>1681</td>\n",
              "      <td>NaN</td>\n",
              "      <td>2.75</td>\n",
              "      <td>3.50</td>\n",
              "      <td>5035000.000</td>\n",
              "      <td>1181.27</td>\n",
              "      <td>1248.29</td>\n",
              "      <td>11928</td>\n",
              "    </tr>\n",
              "    <tr>\n",
              "      <th>1</th>\n",
              "      <td>2006-02-01</td>\n",
              "      <td>107.4</td>\n",
              "      <td>105.8</td>\n",
              "      <td>108.2</td>\n",
              "      <td>107.9</td>\n",
              "      <td>111.7</td>\n",
              "      <td>2</td>\n",
              "      <td>101.3</td>\n",
              "      <td>106.4</td>\n",
              "      <td>100.5</td>\n",
              "      <td>112.6</td>\n",
              "      <td>101.1</td>\n",
              "      <td>118.9</td>\n",
              "      <td>100.9</td>\n",
              "      <td>104.7</td>\n",
              "      <td>14336</td>\n",
              "      <td>125963</td>\n",
              "      <td>4479503</td>\n",
              "      <td>4528948</td>\n",
              "      <td>0.200000</td>\n",
              "      <td>-3.995000</td>\n",
              "      <td>0.251613</td>\n",
              "      <td>1.192857</td>\n",
              "      <td>69900.0</td>\n",
              "      <td>31600.0</td>\n",
              "      <td>4427</td>\n",
              "      <td>2761</td>\n",
              "      <td>2660</td>\n",
              "      <td>2296</td>\n",
              "      <td>NaN</td>\n",
              "      <td>2.75</td>\n",
              "      <td>3.75</td>\n",
              "      <td>5042500.000</td>\n",
              "      <td>1203.60</td>\n",
              "      <td>1280.08</td>\n",
              "      <td>11928</td>\n",
              "    </tr>\n",
              "    <tr>\n",
              "      <th>2</th>\n",
              "      <td>2006-03-01</td>\n",
              "      <td>108.7</td>\n",
              "      <td>106.4</td>\n",
              "      <td>107.9</td>\n",
              "      <td>108.2</td>\n",
              "      <td>112.0</td>\n",
              "      <td>3</td>\n",
              "      <td>102.4</td>\n",
              "      <td>107.4</td>\n",
              "      <td>101.1</td>\n",
              "      <td>114.8</td>\n",
              "      <td>102.6</td>\n",
              "      <td>125.7</td>\n",
              "      <td>101.9</td>\n",
              "      <td>106.4</td>\n",
              "      <td>14601</td>\n",
              "      <td>124172</td>\n",
              "      <td>4376561</td>\n",
              "      <td>4556689</td>\n",
              "      <td>-3.567500</td>\n",
              "      <td>-1.621290</td>\n",
              "      <td>0.771429</td>\n",
              "      <td>0.825806</td>\n",
              "      <td>69900.0</td>\n",
              "      <td>31600.0</td>\n",
              "      <td>2882</td>\n",
              "      <td>5443</td>\n",
              "      <td>1539</td>\n",
              "      <td>2941</td>\n",
              "      <td>NaN</td>\n",
              "      <td>2.75</td>\n",
              "      <td>3.75</td>\n",
              "      <td>5050011.172</td>\n",
              "      <td>1180.59</td>\n",
              "      <td>1280.66</td>\n",
              "      <td>11928</td>\n",
              "    </tr>\n",
              "  </tbody>\n",
              "</table>\n",
              "</div>"
            ],
            "text/plain": [
              "        Date  ...  1Y_Bachelors_Degree_Ontario_NewReg\n",
              "0 2006-01-01  ...                               11928\n",
              "1 2006-02-01  ...                               11928\n",
              "2 2006-03-01  ...                               11928\n",
              "\n",
              "[3 rows x 36 columns]"
            ]
          },
          "metadata": {
            "tags": []
          },
          "execution_count": 6
        }
      ]
    },
    {
      "cell_type": "code",
      "metadata": {
        "id": "1z8YnMI3PBQo"
      },
      "source": [
        "# New column for date year\n",
        "df['Year'] = df['Date'].dt.year"
      ],
      "execution_count": 7,
      "outputs": []
    },
    {
      "cell_type": "markdown",
      "metadata": {
        "id": "Br7-oNuYUmI-"
      },
      "source": [
        "##Prepare training data"
      ]
    },
    {
      "cell_type": "code",
      "metadata": {
        "colab": {
          "base_uri": "https://localhost:8080/"
        },
        "id": "0EcDP6A1Thb0",
        "outputId": "291749c8-b605-49f7-8ff0-2097370f579f"
      },
      "source": [
        "def traintest(x):\n",
        "  train = df.iloc[:int(-(df.shape[0]*(x))),:]\n",
        "  test = df.iloc[int(-(df.shape[0]*(x))):,:]\n",
        "  print('Train:',train.shape, train['Date'].min(), 'to', train['Date'].max())\n",
        "  print('Test:',test.shape, test['Date'].min(), 'to', test['Date'].max())\n",
        "  return train, test\n",
        "train,test = traintest(0.15)"
      ],
      "execution_count": 31,
      "outputs": [
        {
          "output_type": "stream",
          "text": [
            "Train: (153, 37) 2006-01-01 00:00:00 to 2018-09-01 00:00:00\n",
            "Test: (27, 37) 2018-10-01 00:00:00 to 2020-12-01 00:00:00\n"
          ],
          "name": "stdout"
        }
      ]
    },
    {
      "cell_type": "code",
      "metadata": {
        "id": "ZdDF1vRARrSq"
      },
      "source": [
        "# Removing date feature and create target\n",
        "X_train = train.drop(columns=['Date','Target_GreaterToronto_Single_Family_HPI'])#, axis='columns', inplace=True)\n",
        "y_train = train['Target_GreaterToronto_Single_Family_HPI']"
      ],
      "execution_count": 39,
      "outputs": []
    },
    {
      "cell_type": "code",
      "metadata": {
        "colab": {
          "base_uri": "https://localhost:8080/"
        },
        "id": "wg8BG8V3RpFw",
        "outputId": "d60616f8-9f30-4f06-e7f6-61fcff7eeb42"
      },
      "source": [
        "# Autoimpute and overwrite X train\n",
        "print(\"Imputing missing data in one line of code with the default SingleImputer\")\n",
        "imputer = SingleImputer(strategy=\"mean\")\n",
        "X_train = imputer.fit_transform(X_train)\n",
        "print(\"Imputation Successful!\")"
      ],
      "execution_count": 44,
      "outputs": [
        {
          "output_type": "stream",
          "text": [
            "Imputing missing data in one line of code with the default SingleImputer\n",
            "Imputation Successful!\n"
          ],
          "name": "stdout"
        }
      ]
    },
    {
      "cell_type": "code",
      "metadata": {
        "id": "znpkG84GWl1T"
      },
      "source": [
        "# Standardize\n",
        "scaler = MinMaxScaler()\n",
        "X_train_scaled = pd.DataFrame(scaler.fit_transform(X_train),columns=X_train.columns)"
      ],
      "execution_count": 52,
      "outputs": []
    }
  ]
}