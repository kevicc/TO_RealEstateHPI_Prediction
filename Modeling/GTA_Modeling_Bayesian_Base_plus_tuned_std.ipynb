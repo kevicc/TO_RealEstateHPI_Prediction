{
  "nbformat": 4,
  "nbformat_minor": 0,
  "metadata": {
    "kernelspec": {
      "display_name": "Python 3",
      "language": "python",
      "name": "python3"
    },
    "language_info": {
      "codemirror_mode": {
        "name": "ipython",
        "version": 3
      },
      "file_extension": ".py",
      "mimetype": "text/x-python",
      "name": "python",
      "nbconvert_exporter": "python",
      "pygments_lexer": "ipython3",
      "version": "3.8.5"
    },
    "colab": {
      "name": "GTA_Modeling_Bayesian_Base_plus_tuned_std.ipynb",
      "provenance": [],
      "collapsed_sections": []
    }
  },
  "cells": [
    {
      "cell_type": "markdown",
      "metadata": {
        "id": "W9gTID0JW1j2"
      },
      "source": [
        "##Import packages & load data"
      ]
    },
    {
      "cell_type": "code",
      "metadata": {
        "id": "srM8OZVePBQj",
        "colab": {
          "base_uri": "https://localhost:8080/"
        },
        "outputId": "0c438a59-459c-4a8b-c21c-d18e63b7ce90"
      },
      "source": [
        "import pandas as pd\n",
        "import numpy as np\n",
        "from numpy import where\n",
        "\n",
        "!pip install autoimpute\n",
        "from autoimpute.imputations import SingleImputer\n",
        "\n",
        "import xgboost as xgb\n",
        "import sklearn\n",
        "from sklearn.preprocessing import StandardScaler, MinMaxScaler\n",
        "from sklearn.model_selection import train_test_split\n",
        "from sklearn.metrics import mean_squared_error, r2_score\n",
        "from yellowbrick.regressor import ResidualsPlot, PredictionError\n",
        "from sklearn.linear_model import LinearRegression, ARDRegression, BayesianRidge, Lasso, SGDRegressor\n",
        "import matplotlib.pyplot as plt\n",
        "from matplotlib import pyplot\n",
        "\n",
        "# Hyperparameter Tuning Packages\n",
        "from sklearn.model_selection import RandomizedSearchCV, GridSearchCV\n",
        "from sklearn.model_selection import KFold, TimeSeriesSplit\n",
        "\n",
        "from xgboost import plot_importance\n",
        "!pip install shap\n",
        "import shap"
      ],
      "execution_count": 1,
      "outputs": [
        {
          "output_type": "stream",
          "text": [
            "Collecting autoimpute\n",
            "\u001b[?25l  Downloading https://files.pythonhosted.org/packages/77/d3/d873eaf22e4a7a434098c4a99d23649346f2736308c30a477505b08c54e4/autoimpute-0.12.2-py3-none-any.whl (100kB)\n",
            "\r\u001b[K     |███▎                            | 10kB 14.5MB/s eta 0:00:01\r\u001b[K     |██████▌                         | 20kB 21.0MB/s eta 0:00:01\r\u001b[K     |█████████▊                      | 30kB 24.8MB/s eta 0:00:01\r\u001b[K     |█████████████                   | 40kB 28.4MB/s eta 0:00:01\r\u001b[K     |████████████████▎               | 51kB 30.9MB/s eta 0:00:01\r\u001b[K     |███████████████████▌            | 61kB 32.2MB/s eta 0:00:01\r\u001b[K     |██████████████████████▊         | 71kB 27.6MB/s eta 0:00:01\r\u001b[K     |██████████████████████████      | 81kB 28.5MB/s eta 0:00:01\r\u001b[K     |█████████████████████████████▎  | 92kB 28.0MB/s eta 0:00:01\r\u001b[K     |████████████████████████████████| 102kB 10.2MB/s \n",
            "\u001b[?25hRequirement already satisfied: pandas in /usr/local/lib/python3.7/dist-packages (from autoimpute) (1.1.5)\n",
            "Requirement already satisfied: xgboost in /usr/local/lib/python3.7/dist-packages (from autoimpute) (0.90)\n",
            "Requirement already satisfied: missingno in /usr/local/lib/python3.7/dist-packages (from autoimpute) (0.4.2)\n",
            "Requirement already satisfied: pymc3 in /usr/local/lib/python3.7/dist-packages (from autoimpute) (3.11.2)\n",
            "Requirement already satisfied: scipy in /usr/local/lib/python3.7/dist-packages (from autoimpute) (1.4.1)\n",
            "Requirement already satisfied: scikit-learn in /usr/local/lib/python3.7/dist-packages (from autoimpute) (0.22.2.post1)\n",
            "Requirement already satisfied: statsmodels in /usr/local/lib/python3.7/dist-packages (from autoimpute) (0.10.2)\n",
            "Requirement already satisfied: numpy in /usr/local/lib/python3.7/dist-packages (from autoimpute) (1.19.5)\n",
            "Requirement already satisfied: seaborn in /usr/local/lib/python3.7/dist-packages (from autoimpute) (0.11.1)\n",
            "Requirement already satisfied: pytz>=2017.2 in /usr/local/lib/python3.7/dist-packages (from pandas->autoimpute) (2018.9)\n",
            "Requirement already satisfied: python-dateutil>=2.7.3 in /usr/local/lib/python3.7/dist-packages (from pandas->autoimpute) (2.8.1)\n",
            "Requirement already satisfied: matplotlib in /usr/local/lib/python3.7/dist-packages (from missingno->autoimpute) (3.2.2)\n",
            "Requirement already satisfied: cachetools>=4.2.1 in /usr/local/lib/python3.7/dist-packages (from pymc3->autoimpute) (4.2.2)\n",
            "Requirement already satisfied: theano-pymc==1.1.2 in /usr/local/lib/python3.7/dist-packages (from pymc3->autoimpute) (1.1.2)\n",
            "Requirement already satisfied: fastprogress>=0.2.0 in /usr/local/lib/python3.7/dist-packages (from pymc3->autoimpute) (1.0.0)\n",
            "Requirement already satisfied: patsy>=0.5.1 in /usr/local/lib/python3.7/dist-packages (from pymc3->autoimpute) (0.5.1)\n",
            "Requirement already satisfied: arviz>=0.11.0 in /usr/local/lib/python3.7/dist-packages (from pymc3->autoimpute) (0.11.2)\n",
            "Requirement already satisfied: dill in /usr/local/lib/python3.7/dist-packages (from pymc3->autoimpute) (0.3.3)\n",
            "Requirement already satisfied: semver in /usr/local/lib/python3.7/dist-packages (from pymc3->autoimpute) (2.13.0)\n",
            "Requirement already satisfied: typing-extensions>=3.7.4 in /usr/local/lib/python3.7/dist-packages (from pymc3->autoimpute) (3.7.4.3)\n",
            "Requirement already satisfied: joblib>=0.11 in /usr/local/lib/python3.7/dist-packages (from scikit-learn->autoimpute) (1.0.1)\n",
            "Requirement already satisfied: six>=1.5 in /usr/local/lib/python3.7/dist-packages (from python-dateutil>=2.7.3->pandas->autoimpute) (1.15.0)\n",
            "Requirement already satisfied: kiwisolver>=1.0.1 in /usr/local/lib/python3.7/dist-packages (from matplotlib->missingno->autoimpute) (1.3.1)\n",
            "Requirement already satisfied: cycler>=0.10 in /usr/local/lib/python3.7/dist-packages (from matplotlib->missingno->autoimpute) (0.10.0)\n",
            "Requirement already satisfied: pyparsing!=2.0.4,!=2.1.2,!=2.1.6,>=2.0.1 in /usr/local/lib/python3.7/dist-packages (from matplotlib->missingno->autoimpute) (2.4.7)\n",
            "Requirement already satisfied: filelock in /usr/local/lib/python3.7/dist-packages (from theano-pymc==1.1.2->pymc3->autoimpute) (3.0.12)\n",
            "Requirement already satisfied: xarray>=0.16.1 in /usr/local/lib/python3.7/dist-packages (from arviz>=0.11.0->pymc3->autoimpute) (0.18.2)\n",
            "Requirement already satisfied: netcdf4 in /usr/local/lib/python3.7/dist-packages (from arviz>=0.11.0->pymc3->autoimpute) (1.5.6)\n",
            "Requirement already satisfied: setuptools>=38.4 in /usr/local/lib/python3.7/dist-packages (from arviz>=0.11.0->pymc3->autoimpute) (57.0.0)\n",
            "Requirement already satisfied: packaging in /usr/local/lib/python3.7/dist-packages (from arviz>=0.11.0->pymc3->autoimpute) (20.9)\n",
            "Requirement already satisfied: cftime in /usr/local/lib/python3.7/dist-packages (from netcdf4->arviz>=0.11.0->pymc3->autoimpute) (1.5.0)\n",
            "Installing collected packages: autoimpute\n",
            "Successfully installed autoimpute-0.12.2\n"
          ],
          "name": "stdout"
        },
        {
          "output_type": "stream",
          "text": [
            "/usr/local/lib/python3.7/dist-packages/sklearn/utils/deprecation.py:144: FutureWarning: The sklearn.metrics.classification module is  deprecated in version 0.22 and will be removed in version 0.24. The corresponding classes / functions should instead be imported from sklearn.metrics. Anything that cannot be imported from sklearn.metrics is now part of the private API.\n",
            "  warnings.warn(message, FutureWarning)\n"
          ],
          "name": "stderr"
        },
        {
          "output_type": "stream",
          "text": [
            "Collecting shap\n",
            "\u001b[?25l  Downloading https://files.pythonhosted.org/packages/b9/f4/c5b95cddae15be80f8e58b25edceca105aa83c0b8c86a1edad24a6af80d3/shap-0.39.0.tar.gz (356kB)\n",
            "\r\u001b[K     |█                               | 10kB 18.7MB/s eta 0:00:01\r\u001b[K     |█▉                              | 20kB 22.9MB/s eta 0:00:01\r\u001b[K     |██▊                             | 30kB 26.1MB/s eta 0:00:01\r\u001b[K     |███▊                            | 40kB 28.4MB/s eta 0:00:01\r\u001b[K     |████▋                           | 51kB 29.7MB/s eta 0:00:01\r\u001b[K     |█████▌                          | 61kB 30.6MB/s eta 0:00:01\r\u001b[K     |██████▍                         | 71kB 31.2MB/s eta 0:00:01\r\u001b[K     |███████▍                        | 81kB 32.4MB/s eta 0:00:01\r\u001b[K     |████████▎                       | 92kB 33.7MB/s eta 0:00:01\r\u001b[K     |█████████▏                      | 102kB 35.0MB/s eta 0:00:01\r\u001b[K     |██████████▏                     | 112kB 35.0MB/s eta 0:00:01\r\u001b[K     |███████████                     | 122kB 35.0MB/s eta 0:00:01\r\u001b[K     |████████████                    | 133kB 35.0MB/s eta 0:00:01\r\u001b[K     |████████████▉                   | 143kB 35.0MB/s eta 0:00:01\r\u001b[K     |█████████████▉                  | 153kB 35.0MB/s eta 0:00:01\r\u001b[K     |██████████████▊                 | 163kB 35.0MB/s eta 0:00:01\r\u001b[K     |███████████████▋                | 174kB 35.0MB/s eta 0:00:01\r\u001b[K     |████████████████▋               | 184kB 35.0MB/s eta 0:00:01\r\u001b[K     |█████████████████▌              | 194kB 35.0MB/s eta 0:00:01\r\u001b[K     |██████████████████▍             | 204kB 35.0MB/s eta 0:00:01\r\u001b[K     |███████████████████▎            | 215kB 35.0MB/s eta 0:00:01\r\u001b[K     |████████████████████▎           | 225kB 35.0MB/s eta 0:00:01\r\u001b[K     |█████████████████████▏          | 235kB 35.0MB/s eta 0:00:01\r\u001b[K     |██████████████████████          | 245kB 35.0MB/s eta 0:00:01\r\u001b[K     |███████████████████████         | 256kB 35.0MB/s eta 0:00:01\r\u001b[K     |████████████████████████        | 266kB 35.0MB/s eta 0:00:01\r\u001b[K     |████████████████████████▉       | 276kB 35.0MB/s eta 0:00:01\r\u001b[K     |█████████████████████████▊      | 286kB 35.0MB/s eta 0:00:01\r\u001b[K     |██████████████████████████▊     | 296kB 35.0MB/s eta 0:00:01\r\u001b[K     |███████████████████████████▋    | 307kB 35.0MB/s eta 0:00:01\r\u001b[K     |████████████████████████████▌   | 317kB 35.0MB/s eta 0:00:01\r\u001b[K     |█████████████████████████████▍  | 327kB 35.0MB/s eta 0:00:01\r\u001b[K     |██████████████████████████████▍ | 337kB 35.0MB/s eta 0:00:01\r\u001b[K     |███████████████████████████████▎| 348kB 35.0MB/s eta 0:00:01\r\u001b[K     |████████████████████████████████| 358kB 35.0MB/s \n",
            "\u001b[?25hRequirement already satisfied: numpy in /usr/local/lib/python3.7/dist-packages (from shap) (1.19.5)\n",
            "Requirement already satisfied: scipy in /usr/local/lib/python3.7/dist-packages (from shap) (1.4.1)\n",
            "Requirement already satisfied: scikit-learn in /usr/local/lib/python3.7/dist-packages (from shap) (0.22.2.post1)\n",
            "Requirement already satisfied: pandas in /usr/local/lib/python3.7/dist-packages (from shap) (1.1.5)\n",
            "Requirement already satisfied: tqdm>4.25.0 in /usr/local/lib/python3.7/dist-packages (from shap) (4.41.1)\n",
            "Collecting slicer==0.0.7\n",
            "  Downloading https://files.pythonhosted.org/packages/78/c2/b3f55dfdb8af9812fdb9baf70cacf3b9e82e505b2bd4324d588888b81202/slicer-0.0.7-py3-none-any.whl\n",
            "Requirement already satisfied: numba in /usr/local/lib/python3.7/dist-packages (from shap) (0.51.2)\n",
            "Requirement already satisfied: cloudpickle in /usr/local/lib/python3.7/dist-packages (from shap) (1.3.0)\n",
            "Requirement already satisfied: joblib>=0.11 in /usr/local/lib/python3.7/dist-packages (from scikit-learn->shap) (1.0.1)\n",
            "Requirement already satisfied: python-dateutil>=2.7.3 in /usr/local/lib/python3.7/dist-packages (from pandas->shap) (2.8.1)\n",
            "Requirement already satisfied: pytz>=2017.2 in /usr/local/lib/python3.7/dist-packages (from pandas->shap) (2018.9)\n",
            "Requirement already satisfied: llvmlite<0.35,>=0.34.0.dev0 in /usr/local/lib/python3.7/dist-packages (from numba->shap) (0.34.0)\n",
            "Requirement already satisfied: setuptools in /usr/local/lib/python3.7/dist-packages (from numba->shap) (57.0.0)\n",
            "Requirement already satisfied: six>=1.5 in /usr/local/lib/python3.7/dist-packages (from python-dateutil>=2.7.3->pandas->shap) (1.15.0)\n",
            "Building wheels for collected packages: shap\n",
            "  Building wheel for shap (setup.py) ... \u001b[?25l\u001b[?25hdone\n",
            "  Created wheel for shap: filename=shap-0.39.0-cp37-cp37m-linux_x86_64.whl size=491632 sha256=6dc6aaede6a49cd9e9b50e957b42a9c4eab5001fcc32e19093948f540f8e807b\n",
            "  Stored in directory: /root/.cache/pip/wheels/15/27/f5/a8ab9da52fd159aae6477b5ede6eaaec69fd130fa0fa59f283\n",
            "Successfully built shap\n",
            "Installing collected packages: slicer, shap\n",
            "Successfully installed shap-0.39.0 slicer-0.0.7\n"
          ],
          "name": "stdout"
        }
      ]
    },
    {
      "cell_type": "code",
      "metadata": {
        "colab": {
          "base_uri": "https://localhost:8080/"
        },
        "id": "2AHoq8MVP4L0",
        "outputId": "725f09b6-9a3a-4a5c-f4d0-5e3985058875"
      },
      "source": [
        "from google.colab import drive\n",
        "drive.mount('/content/drive')"
      ],
      "execution_count": 2,
      "outputs": [
        {
          "output_type": "stream",
          "text": [
            "Mounted at /content/drive\n"
          ],
          "name": "stdout"
        }
      ]
    },
    {
      "cell_type": "code",
      "metadata": {
        "id": "qIZbo7iaPBQm"
      },
      "source": [
        "# Read the excel dataset\n",
        "df = pd.read_excel('/content/drive/MyDrive/MMAI/Finance/Alfred_Dataset.xlsx')"
      ],
      "execution_count": 169,
      "outputs": []
    },
    {
      "cell_type": "code",
      "metadata": {
        "colab": {
          "base_uri": "https://localhost:8080/",
          "height": 223
        },
        "id": "fuoJZTRGPBQn",
        "outputId": "71e5bd62-e1a8-4ab6-ec0b-3a7e8f3ca967"
      },
      "source": [
        "# check sample\n",
        "print(df.shape)\n",
        "df.head(3)"
      ],
      "execution_count": 170,
      "outputs": [
        {
          "output_type": "stream",
          "text": [
            "(180, 37)\n"
          ],
          "name": "stdout"
        },
        {
          "output_type": "execute_result",
          "data": {
            "text/html": [
              "<div>\n",
              "<style scoped>\n",
              "    .dataframe tbody tr th:only-of-type {\n",
              "        vertical-align: middle;\n",
              "    }\n",
              "\n",
              "    .dataframe tbody tr th {\n",
              "        vertical-align: top;\n",
              "    }\n",
              "\n",
              "    .dataframe thead th {\n",
              "        text-align: right;\n",
              "    }\n",
              "</style>\n",
              "<table border=\"1\" class=\"dataframe\">\n",
              "  <thead>\n",
              "    <tr style=\"text-align: right;\">\n",
              "      <th></th>\n",
              "      <th>Date</th>\n",
              "      <th>Target_GreaterToronto_Single_Family_HPI</th>\n",
              "      <th>1Yr_MetroOntario_CPI_All</th>\n",
              "      <th>1M_MetroOntario_CPI_all</th>\n",
              "      <th>1Yr_MetroOntario_CPI_Shelter</th>\n",
              "      <th>1M_MetroOntario_CPI_Shelter</th>\n",
              "      <th>Month</th>\n",
              "      <th>1Yr_Lag</th>\n",
              "      <th>1M_Lag</th>\n",
              "      <th>1Yr_GreaterVancounver_Single_Family_HPI</th>\n",
              "      <th>1M_GreaterVancounver_Single_Family_HPI</th>\n",
              "      <th>1Yr_Calgary_Single_Family_HPI</th>\n",
              "      <th>1M_Calgary_Single_Family_HPI</th>\n",
              "      <th>1Yr_Montreal_Single_Family_HPI</th>\n",
              "      <th>1M_Montreal_Single_Family_HPI</th>\n",
              "      <th>1M_RealEstate_GDP_Trading_AdjustedConstant_BasePrice</th>\n",
              "      <th>1Yr_RealEstate_GDP_Trading_AdjustedConstant_BasePrice</th>\n",
              "      <th>1Yr_RetailSales_Toronto</th>\n",
              "      <th>1M_RetailSales_Toronto</th>\n",
              "      <th>1M_Avg_Temperature</th>\n",
              "      <th>1Yr_Avg_Temp</th>\n",
              "      <th>1M_Snow_onGround</th>\n",
              "      <th>1Yr_Snow_onGround</th>\n",
              "      <th>1Yr_Toronto_Median_Annual_Income_Couple_Families</th>\n",
              "      <th>1Yr_Toronto_Median_Annual_Income_Lone_Parent_Families</th>\n",
              "      <th>1M_Toronto_ConstructionCompletionsUnits</th>\n",
              "      <th>1Yr_Toronto_ConstructionCompletionsUnits</th>\n",
              "      <th>1M_Toronto_ConstructionStartsUnits</th>\n",
              "      <th>1Yr_Toronto_ConstructionStartsUnits</th>\n",
              "      <th>1M_Toronto_UnempRate_15_54_yrs</th>\n",
              "      <th>1Yr_BankRate_Canada</th>\n",
              "      <th>1M_BankRate_Canada</th>\n",
              "      <th>1M_Population</th>\n",
              "      <th>1Y_S&amp;P500_Close</th>\n",
              "      <th>1M_S&amp;P500_Close</th>\n",
              "      <th>1Y_Bachelors_Degree_Ontario_NewRegEducation</th>\n",
              "      <th>1Y_Bachelors_Degree_Ontario_NewRegAll</th>\n",
              "    </tr>\n",
              "  </thead>\n",
              "  <tbody>\n",
              "    <tr>\n",
              "      <th>0</th>\n",
              "      <td>2006-01-01</td>\n",
              "      <td>106.4</td>\n",
              "      <td>105.1</td>\n",
              "      <td>107.6</td>\n",
              "      <td>107.4</td>\n",
              "      <td>110.2</td>\n",
              "      <td>1</td>\n",
              "      <td>100.0</td>\n",
              "      <td>105.7</td>\n",
              "      <td>100.0</td>\n",
              "      <td>110.4</td>\n",
              "      <td>100.0</td>\n",
              "      <td>114.7</td>\n",
              "      <td>100.0</td>\n",
              "      <td>103.8</td>\n",
              "      <td>14281</td>\n",
              "      <td>119542</td>\n",
              "      <td>4437136</td>\n",
              "      <td>4486253</td>\n",
              "      <td>-3.446452</td>\n",
              "      <td>-6.829677</td>\n",
              "      <td>1.348387</td>\n",
              "      <td>1.070968</td>\n",
              "      <td>69900.0</td>\n",
              "      <td>31600.0</td>\n",
              "      <td>3296</td>\n",
              "      <td>3173</td>\n",
              "      <td>3401</td>\n",
              "      <td>1681</td>\n",
              "      <td>NaN</td>\n",
              "      <td>2.75</td>\n",
              "      <td>3.50</td>\n",
              "      <td>5035000.000</td>\n",
              "      <td>1181.27</td>\n",
              "      <td>1248.29</td>\n",
              "      <td>11928</td>\n",
              "      <td>333234</td>\n",
              "    </tr>\n",
              "    <tr>\n",
              "      <th>1</th>\n",
              "      <td>2006-02-01</td>\n",
              "      <td>107.4</td>\n",
              "      <td>105.8</td>\n",
              "      <td>108.2</td>\n",
              "      <td>107.9</td>\n",
              "      <td>111.7</td>\n",
              "      <td>2</td>\n",
              "      <td>101.3</td>\n",
              "      <td>106.4</td>\n",
              "      <td>100.5</td>\n",
              "      <td>112.6</td>\n",
              "      <td>101.1</td>\n",
              "      <td>118.9</td>\n",
              "      <td>100.9</td>\n",
              "      <td>104.7</td>\n",
              "      <td>14336</td>\n",
              "      <td>125963</td>\n",
              "      <td>4479503</td>\n",
              "      <td>4528948</td>\n",
              "      <td>0.200000</td>\n",
              "      <td>-3.995000</td>\n",
              "      <td>0.251613</td>\n",
              "      <td>1.192857</td>\n",
              "      <td>69900.0</td>\n",
              "      <td>31600.0</td>\n",
              "      <td>4427</td>\n",
              "      <td>2761</td>\n",
              "      <td>2660</td>\n",
              "      <td>2296</td>\n",
              "      <td>NaN</td>\n",
              "      <td>2.75</td>\n",
              "      <td>3.75</td>\n",
              "      <td>5042500.000</td>\n",
              "      <td>1203.60</td>\n",
              "      <td>1280.08</td>\n",
              "      <td>11928</td>\n",
              "      <td>333234</td>\n",
              "    </tr>\n",
              "    <tr>\n",
              "      <th>2</th>\n",
              "      <td>2006-03-01</td>\n",
              "      <td>108.7</td>\n",
              "      <td>106.4</td>\n",
              "      <td>107.9</td>\n",
              "      <td>108.2</td>\n",
              "      <td>112.0</td>\n",
              "      <td>3</td>\n",
              "      <td>102.4</td>\n",
              "      <td>107.4</td>\n",
              "      <td>101.1</td>\n",
              "      <td>114.8</td>\n",
              "      <td>102.6</td>\n",
              "      <td>125.7</td>\n",
              "      <td>101.9</td>\n",
              "      <td>106.4</td>\n",
              "      <td>14601</td>\n",
              "      <td>124172</td>\n",
              "      <td>4376561</td>\n",
              "      <td>4556689</td>\n",
              "      <td>-3.567500</td>\n",
              "      <td>-1.621290</td>\n",
              "      <td>0.771429</td>\n",
              "      <td>0.825806</td>\n",
              "      <td>69900.0</td>\n",
              "      <td>31600.0</td>\n",
              "      <td>2882</td>\n",
              "      <td>5443</td>\n",
              "      <td>1539</td>\n",
              "      <td>2941</td>\n",
              "      <td>NaN</td>\n",
              "      <td>2.75</td>\n",
              "      <td>3.75</td>\n",
              "      <td>5050011.172</td>\n",
              "      <td>1180.59</td>\n",
              "      <td>1280.66</td>\n",
              "      <td>11928</td>\n",
              "      <td>333234</td>\n",
              "    </tr>\n",
              "  </tbody>\n",
              "</table>\n",
              "</div>"
            ],
            "text/plain": [
              "        Date  ...  1Y_Bachelors_Degree_Ontario_NewRegAll\n",
              "0 2006-01-01  ...                                 333234\n",
              "1 2006-02-01  ...                                 333234\n",
              "2 2006-03-01  ...                                 333234\n",
              "\n",
              "[3 rows x 37 columns]"
            ]
          },
          "metadata": {
            "tags": []
          },
          "execution_count": 170
        }
      ]
    },
    {
      "cell_type": "code",
      "metadata": {
        "id": "1z8YnMI3PBQo"
      },
      "source": [
        "# New column for date year\n",
        "df['Year'] = df['Date'].dt.year\n",
        "# drop a silly feature\n",
        "df = df.drop(columns=['1Y_Bachelors_Degree_Ontario_NewRegEducation','1M_Snow_onGround','1Yr_Snow_onGround'])"
      ],
      "execution_count": 171,
      "outputs": []
    },
    {
      "cell_type": "code",
      "metadata": {
        "colab": {
          "base_uri": "https://localhost:8080/"
        },
        "id": "bQaV_7uTtvI5",
        "outputId": "83421ff4-c219-4fb6-d392-ff5e61187d38"
      },
      "source": [
        "df.columns"
      ],
      "execution_count": 172,
      "outputs": [
        {
          "output_type": "execute_result",
          "data": {
            "text/plain": [
              "Index(['Date', 'Target_GreaterToronto_Single_Family_HPI',\n",
              "       '1Yr_MetroOntario_CPI_All', '1M_MetroOntario_CPI_all',\n",
              "       '1Yr_MetroOntario_CPI_Shelter', '1M_MetroOntario_CPI_Shelter', 'Month',\n",
              "       '1Yr_Lag', '1M_Lag', '1Yr_GreaterVancounver_Single_Family_HPI',\n",
              "       '1M_GreaterVancounver_Single_Family_HPI',\n",
              "       '1Yr_Calgary_Single_Family_HPI', '1M_Calgary_Single_Family_HPI',\n",
              "       '1Yr_Montreal_Single_Family_HPI', '1M_Montreal_Single_Family_HPI',\n",
              "       '1M_RealEstate_GDP_Trading_AdjustedConstant_BasePrice',\n",
              "       '1Yr_RealEstate_GDP_Trading_AdjustedConstant_BasePrice',\n",
              "       '1Yr_RetailSales_Toronto', '1M_RetailSales_Toronto',\n",
              "       '1M_Avg_Temperature', '1Yr_Avg_Temp',\n",
              "       '1Yr_Toronto_Median_Annual_Income_Couple_Families',\n",
              "       '1Yr_Toronto_Median_Annual_Income_Lone_Parent_Families',\n",
              "       '1M_Toronto_ConstructionCompletionsUnits',\n",
              "       '1Yr_Toronto_ConstructionCompletionsUnits',\n",
              "       '1M_Toronto_ConstructionStartsUnits',\n",
              "       '1Yr_Toronto_ConstructionStartsUnits', '1M_Toronto_UnempRate_15_54_yrs',\n",
              "       '1Yr_BankRate_Canada', '1M_BankRate_Canada', '1M_Population',\n",
              "       '1Y_S&P500_Close', '1M_S&P500_Close',\n",
              "       '1Y_Bachelors_Degree_Ontario_NewRegAll', 'Year'],\n",
              "      dtype='object')"
            ]
          },
          "metadata": {
            "tags": []
          },
          "execution_count": 172
        }
      ]
    },
    {
      "cell_type": "markdown",
      "metadata": {
        "id": "Qc4P_wgiaPcA"
      },
      "source": [
        "#**Modeling**"
      ]
    },
    {
      "cell_type": "markdown",
      "metadata": {
        "id": "V-KwONMFaZWZ"
      },
      "source": [
        "#Functions"
      ]
    },
    {
      "cell_type": "code",
      "metadata": {
        "id": "dyWrllmkaSIH"
      },
      "source": [
        "def clean_data(df):\n",
        "   \n",
        "    clean_X = df.drop(['Target_GreaterToronto_Single_Family_HPI'], axis=1)\n",
        "    clean_Y = df['Target_GreaterToronto_Single_Family_HPI']\n",
        "    \n",
        "    return clean_X, clean_Y\n",
        "\n",
        "def split_data(clean_X, clean_Y, train_size):\n",
        "    row_num = int(clean_X.shape[0]*train_size)\n",
        "    \n",
        "    X_train = clean_X[:row_num].drop(['Date'], axis=1)\n",
        "    Y_train = clean_Y[:row_num]\n",
        "    \n",
        "    X_test  = clean_X[row_num:].drop(['Date'], axis=1)\n",
        "    Y_test  = clean_Y[row_num:]\n",
        "\n",
        "    X_test_date  = clean_X[row_num:][['Date']]\n",
        "\n",
        "    imputer = SingleImputer(strategy=\"mean\")\n",
        "    X_train = imputer.fit_transform(X_train)\n",
        "    X_test = imputer.transform(X_test)\n",
        "    \n",
        "    return X_train, X_test, Y_train, Y_test, X_test_date\n",
        "\n",
        "def adj_r2(X, y, y_pred):\n",
        "        r2 = r2_score(y,y_pred)\n",
        "        adj_r2 = (1 - (1 - r2) * ((X.shape[0] - 1) / (X.shape[0] - X.shape[1] - 1)))\n",
        "        return r2, adj_r2\n",
        "\n",
        "def predict_test_values(model, X_test, y_test, X_test_date, X_train, y_train):\n",
        "    y_test_pred = model.predict(X_test)\n",
        "    y_train_pred = model.predict(X_train)\n",
        "\n",
        "    y_test_pred_rmse = mean_squared_error(y_test,y_test_pred,squared=False)\n",
        "    print (f'RMSE of Test Data: {y_test_pred_rmse}')\n",
        "    \n",
        "    r2_train, adj_r2_train = adj_r2(X_train, y_train,y_train_pred)\n",
        "    r2_test, adj_r2_test = adj_r2(X_test, y_test, y_test_pred)\n",
        "    \n",
        "    print (f'Adjusted R2 of Train Data: {adj_r2_train}')\n",
        "    print (f'R2 of Test Data: {r2_test}')\n",
        "    \n",
        "    #Populate dataframe for plotting\n",
        "    df_test_actual = pd.DataFrame(y_test).rename({'TARGET':'y_test_actual'},axis=1).reset_index(drop=True)\n",
        "    df_test_pred = pd.DataFrame(y_test_pred,columns=['y_test_pred']).reset_index(drop=True)\n",
        "    df_test = pd.concat([X_test_date.reset_index(drop=True),df_test_actual,df_test_pred],axis=1)\n",
        "    \n",
        "    #Group results\n",
        "    df_test_results = df_test.groupby(['Date']).sum()\n",
        "    \n",
        "    return df_test_results\n",
        "\n",
        "def plot_test_results (df_test_results, model_num):\n",
        "    \n",
        "    model_names = {\n",
        "    1: 'XGBoost',\n",
        "    2: 'Bayesian',\n",
        "    3: 'ARD Regression',\n",
        "    4: 'Linear Regression',   \n",
        "    5: 'Lasso',\n",
        "    6: 'SGD'\n",
        "    }\n",
        "    title = model_names[model_num] + ' Actual vs. Model Results'\n",
        "    \n",
        "    plt.plot(df_test_results.index, df_test_results)\n",
        "    plt.xticks(rotation=90)\n",
        "    plt.title(title)\n",
        "    plt.legend(['Actual GreaterToronto_Single_Family_HPI','Predicted GreaterToronto_Single_Family_HPI']) \n",
        "    plt.grid(False)\n",
        "    return plt.show()\n",
        "\n",
        "def residual_plot(model,X, Y, hist=False,qqplot=True):\n",
        "    \"\"\"\n",
        "    Plot *residual* to understand Homoscedasticity and heteroskedasticity\n",
        "    Plot *q-q* plot for normality testing\n",
        "    \"\"\"\n",
        "    visualizer = ResidualsPlot(model,hist=hist, qqplot=qqplot)\n",
        "    visualizer.fit(X, Y) \n",
        "    return visualizer.show()\n",
        "\n",
        "def feat_selection_step_1(model_num, X_train, y_train, X_test, y_test, top):\n",
        "    \"\"\"\n",
        "    First stage of feature selection. Sort all faetures by predicitve power,\n",
        "    by testing performance of features individually on predicting the target\n",
        "    \"\"\"\n",
        "    rmse_score = []\n",
        "    for i in range(0,len(X_train.columns)):\n",
        "        X_train_samp = X_train.iloc[:, [i]]\n",
        "        X_test_samp = X_test.iloc[:, [i]]\n",
        "        model = models[model_num].fit(X_train_samp,y_train)\n",
        "        y_test_pred = model.predict(X_test_samp)\n",
        "        y_test_pred_rmse = mean_squared_error(y_test,y_test_pred,squared=False)\n",
        "        rmse_score.append(y_test_pred_rmse)\n",
        "        \n",
        "    feature_rank = pd.DataFrame(list(zip(X_train.columns,rmse_score)), columns=['col_name','rmse_score'])\n",
        "    feature_rank = feature_rank.sort_values('rmse_score')\n",
        "    \n",
        "    feature_rank = feature_rank.head(top)\n",
        "    \n",
        "    pd.set_option('display.max_rows', top)\n",
        "    display(feature_rank)\n",
        "    pd.set_option('display.max_rows', 20)\n",
        "    \n",
        "    \n",
        "    X_train = X_train[list(feature_rank.col_name)]\n",
        "    X_test  = X_test[list(feature_rank.col_name)]\n",
        "    \n",
        "    return feature_rank, X_train, X_test\n",
        "\n",
        "def feat_selection_step_2(train_data, test_data, threshold):\n",
        "    \"\"\"\n",
        "    Second stage of feature selection, using the top 50 features from stage 1, find the \n",
        "    single highest correlated feature to each of the 50 features using pearsons r.\n",
        "    \n",
        "    Remove cols higher then threshold.\n",
        "    \"\"\"\n",
        "    col_corr = set() # Set of all the names of deleted columns\n",
        "    corr_matrix = train_data.corr()\n",
        "    \n",
        "    for i in range(len(corr_matrix.columns)):\n",
        "        for j in range(i):\n",
        "            if (corr_matrix.iloc[i, j] >= threshold) and (corr_matrix.columns[j] not in col_corr):\n",
        "                colname = corr_matrix.columns[i] # getting the name of column\n",
        "                col_corr.add(colname)\n",
        "                if colname in train_data.columns:\n",
        "                    #if colname not in ['WEEK_START_DATE_MONTH','WEEK_END_DATE_MONTH','WEEK_START_DATE_WEEK','WEEK_END_DATE_WEEK']:\n",
        "                    if colname not in ['Year']:\n",
        "                        print('Dropped:', colname)\n",
        "                        del train_data[colname] # deleting the column from the dataset\n",
        "                        del test_data[colname]\n",
        "        \n",
        "    \n",
        "    return train_data, test_data\n",
        "\n",
        "\n",
        "def tuner(params, folds, model, X_train, y_train):\n",
        "    \"\"\"\n",
        "        Do a k fold hyperparamter tune using random search\n",
        "    \"\"\"\n",
        "    \n",
        "    kf = TimeSeriesSplit(n_splits=folds)\n",
        "    \n",
        "    random_search = RandomizedSearchCV(model, param_distributions=params, \n",
        "                                    n_iter=len(params), scoring='neg_root_mean_squared_error', n_jobs=4,\n",
        "                                       cv=kf.split(X_train,y_train), verbose=3, random_state=1001)\n",
        "    random_search.fit(X_train, y_train)\n",
        "    \n",
        "    print('\\nBest hyperparameters: ', random_search.best_params_, \"\\nBest Score: \", random_search.best_score_)\n",
        "\n",
        "    return random_search.best_params_, random_search.best_estimator_"
      ],
      "execution_count": 173,
      "outputs": []
    },
    {
      "cell_type": "code",
      "metadata": {
        "id": "-_eK6D3ua2sn"
      },
      "source": [
        "models = {\n",
        "    1: xgb.XGBRegressor(n_estimators=300, random_state=1, max_depth=1),\n",
        "    2: BayesianRidge(n_iter=1000), #normalize=True,\n",
        "    3: ARDRegression(),\n",
        "    4: LinearRegression(),   \n",
        "    5: Lasso(),\n",
        "    6: SGDRegressor()\n",
        "\n",
        "}"
      ],
      "execution_count": 174,
      "outputs": []
    },
    {
      "cell_type": "markdown",
      "metadata": {
        "id": "BmMHNKz-ixFn"
      },
      "source": [
        "#Select a Model to Run"
      ]
    },
    {
      "cell_type": "code",
      "metadata": {
        "id": "Gz-u0tYEtLeE"
      },
      "source": [
        "train_size = 0.85 #adjustable\n",
        "\n",
        "clean_X, clean_Y = clean_data(df)\n",
        "X_train, X_test, y_train, y_test, X_test_date = split_data(clean_X, clean_Y, train_size = train_size)\n",
        "\n",
        "# Scale\n",
        "from sklearn.preprocessing import StandardScaler\n",
        "scale = StandardScaler()\n",
        "X_train = pd.DataFrame(scale.fit_transform(X_train),columns=X_train.columns)\n",
        "X_test = pd.DataFrame(scale.transform(X_test),columns=X_test.columns)"
      ],
      "execution_count": 175,
      "outputs": []
    },
    {
      "cell_type": "code",
      "metadata": {
        "id": "jjbEvgWUiuVC"
      },
      "source": [
        "model_num = 2"
      ],
      "execution_count": 176,
      "outputs": []
    },
    {
      "cell_type": "markdown",
      "metadata": {
        "id": "EFGUJscpi4bq"
      },
      "source": [
        "##Model Building"
      ]
    },
    {
      "cell_type": "code",
      "metadata": {
        "colab": {
          "base_uri": "https://localhost:8080/"
        },
        "id": "k47-2jjli0ke",
        "outputId": "4acdbbc2-59d1-4d63-c649-7a51c1d403b0"
      },
      "source": [
        "# Base model shows overfitting, negative r2 on test\n",
        "from sklearn.metrics import r2_score\n",
        "model = models[model_num].fit(X_train,y_train)\n",
        "y_pred_t = model.predict (X_train)\n",
        "y_pred_test = model.predict (X_test)\n",
        "print(\"r2 score on train: \",r2_score(y_train,y_pred_t))\n",
        "print(\"r2 score on test: \",r2_score(y_test,y_pred_test))\n",
        "print(f'RMSE on test: {mean_squared_error(y_test,y_pred_test,squared=False)}')"
      ],
      "execution_count": 177,
      "outputs": [
        {
          "output_type": "stream",
          "text": [
            "r2 score on train:  0.9984609042674318\n",
            "r2 score on test:  -0.42505305810006067\n",
            "RMSE on test: 19.64868245109256\n"
          ],
          "name": "stdout"
        }
      ]
    },
    {
      "cell_type": "markdown",
      "metadata": {
        "id": "VE9j0sFLj6JP"
      },
      "source": [
        "#Feature Selection"
      ]
    },
    {
      "cell_type": "code",
      "metadata": {
        "colab": {
          "base_uri": "https://localhost:8080/",
          "height": 1000
        },
        "id": "QmIEpcNejIkA",
        "outputId": "39035628-23a0-4157-b57e-88829e29c643"
      },
      "source": [
        "# Feature selction stage 1\n",
        "feature_rank, X_train_sel,X_test_sel = feat_selection_step_1(model_num, X_train,y_train, X_test, y_test, top=50)"
      ],
      "execution_count": 178,
      "outputs": [
        {
          "output_type": "display_data",
          "data": {
            "text/html": [
              "<div>\n",
              "<style scoped>\n",
              "    .dataframe tbody tr th:only-of-type {\n",
              "        vertical-align: middle;\n",
              "    }\n",
              "\n",
              "    .dataframe tbody tr th {\n",
              "        vertical-align: top;\n",
              "    }\n",
              "\n",
              "    .dataframe thead th {\n",
              "        text-align: right;\n",
              "    }\n",
              "</style>\n",
              "<table border=\"1\" class=\"dataframe\">\n",
              "  <thead>\n",
              "    <tr style=\"text-align: right;\">\n",
              "      <th></th>\n",
              "      <th>col_name</th>\n",
              "      <th>rmse_score</th>\n",
              "    </tr>\n",
              "  </thead>\n",
              "  <tbody>\n",
              "    <tr>\n",
              "      <th>6</th>\n",
              "      <td>1M_Lag</td>\n",
              "      <td>2.314117</td>\n",
              "    </tr>\n",
              "    <tr>\n",
              "      <th>2</th>\n",
              "      <td>1Yr_MetroOntario_CPI_Shelter</td>\n",
              "      <td>5.089784</td>\n",
              "    </tr>\n",
              "    <tr>\n",
              "      <th>3</th>\n",
              "      <td>1M_MetroOntario_CPI_Shelter</td>\n",
              "      <td>7.219846</td>\n",
              "    </tr>\n",
              "    <tr>\n",
              "      <th>11</th>\n",
              "      <td>1Yr_Montreal_Single_Family_HPI</td>\n",
              "      <td>10.116904</td>\n",
              "    </tr>\n",
              "    <tr>\n",
              "      <th>0</th>\n",
              "      <td>1Yr_MetroOntario_CPI_All</td>\n",
              "      <td>10.632416</td>\n",
              "    </tr>\n",
              "    <tr>\n",
              "      <th>5</th>\n",
              "      <td>1Yr_Lag</td>\n",
              "      <td>12.640199</td>\n",
              "    </tr>\n",
              "    <tr>\n",
              "      <th>1</th>\n",
              "      <td>1M_MetroOntario_CPI_all</td>\n",
              "      <td>15.436318</td>\n",
              "    </tr>\n",
              "    <tr>\n",
              "      <th>32</th>\n",
              "      <td>Year</td>\n",
              "      <td>16.531603</td>\n",
              "    </tr>\n",
              "    <tr>\n",
              "      <th>13</th>\n",
              "      <td>1M_RealEstate_GDP_Trading_AdjustedConstant_Bas...</td>\n",
              "      <td>17.366318</td>\n",
              "    </tr>\n",
              "    <tr>\n",
              "      <th>30</th>\n",
              "      <td>1M_S&amp;P500_Close</td>\n",
              "      <td>20.073721</td>\n",
              "    </tr>\n",
              "    <tr>\n",
              "      <th>15</th>\n",
              "      <td>1Yr_RetailSales_Toronto</td>\n",
              "      <td>22.099426</td>\n",
              "    </tr>\n",
              "    <tr>\n",
              "      <th>14</th>\n",
              "      <td>1Yr_RealEstate_GDP_Trading_AdjustedConstant_Ba...</td>\n",
              "      <td>22.456560</td>\n",
              "    </tr>\n",
              "    <tr>\n",
              "      <th>28</th>\n",
              "      <td>1M_Population</td>\n",
              "      <td>25.287388</td>\n",
              "    </tr>\n",
              "    <tr>\n",
              "      <th>31</th>\n",
              "      <td>1Y_Bachelors_Degree_Ontario_NewRegAll</td>\n",
              "      <td>25.335423</td>\n",
              "    </tr>\n",
              "    <tr>\n",
              "      <th>29</th>\n",
              "      <td>1Y_S&amp;P500_Close</td>\n",
              "      <td>26.125611</td>\n",
              "    </tr>\n",
              "    <tr>\n",
              "      <th>7</th>\n",
              "      <td>1Yr_GreaterVancounver_Single_Family_HPI</td>\n",
              "      <td>29.903146</td>\n",
              "    </tr>\n",
              "    <tr>\n",
              "      <th>12</th>\n",
              "      <td>1M_Montreal_Single_Family_HPI</td>\n",
              "      <td>30.492100</td>\n",
              "    </tr>\n",
              "    <tr>\n",
              "      <th>8</th>\n",
              "      <td>1M_GreaterVancounver_Single_Family_HPI</td>\n",
              "      <td>35.992265</td>\n",
              "    </tr>\n",
              "    <tr>\n",
              "      <th>16</th>\n",
              "      <td>1M_RetailSales_Toronto</td>\n",
              "      <td>44.592955</td>\n",
              "    </tr>\n",
              "    <tr>\n",
              "      <th>20</th>\n",
              "      <td>1Yr_Toronto_Median_Annual_Income_Lone_Parent_F...</td>\n",
              "      <td>82.598578</td>\n",
              "    </tr>\n",
              "    <tr>\n",
              "      <th>9</th>\n",
              "      <td>1Yr_Calgary_Single_Family_HPI</td>\n",
              "      <td>83.512812</td>\n",
              "    </tr>\n",
              "    <tr>\n",
              "      <th>19</th>\n",
              "      <td>1Yr_Toronto_Median_Annual_Income_Couple_Families</td>\n",
              "      <td>84.691038</td>\n",
              "    </tr>\n",
              "    <tr>\n",
              "      <th>10</th>\n",
              "      <td>1M_Calgary_Single_Family_HPI</td>\n",
              "      <td>90.300156</td>\n",
              "    </tr>\n",
              "    <tr>\n",
              "      <th>27</th>\n",
              "      <td>1M_BankRate_Canada</td>\n",
              "      <td>102.302014</td>\n",
              "    </tr>\n",
              "    <tr>\n",
              "      <th>26</th>\n",
              "      <td>1Yr_BankRate_Canada</td>\n",
              "      <td>106.853925</td>\n",
              "    </tr>\n",
              "    <tr>\n",
              "      <th>17</th>\n",
              "      <td>1M_Avg_Temperature</td>\n",
              "      <td>107.918924</td>\n",
              "    </tr>\n",
              "    <tr>\n",
              "      <th>4</th>\n",
              "      <td>Month</td>\n",
              "      <td>107.918943</td>\n",
              "    </tr>\n",
              "    <tr>\n",
              "      <th>22</th>\n",
              "      <td>1Yr_Toronto_ConstructionCompletionsUnits</td>\n",
              "      <td>107.919227</td>\n",
              "    </tr>\n",
              "    <tr>\n",
              "      <th>18</th>\n",
              "      <td>1Yr_Avg_Temp</td>\n",
              "      <td>107.919462</td>\n",
              "    </tr>\n",
              "    <tr>\n",
              "      <th>23</th>\n",
              "      <td>1M_Toronto_ConstructionStartsUnits</td>\n",
              "      <td>108.171008</td>\n",
              "    </tr>\n",
              "    <tr>\n",
              "      <th>24</th>\n",
              "      <td>1Yr_Toronto_ConstructionStartsUnits</td>\n",
              "      <td>108.264522</td>\n",
              "    </tr>\n",
              "    <tr>\n",
              "      <th>21</th>\n",
              "      <td>1M_Toronto_ConstructionCompletionsUnits</td>\n",
              "      <td>108.342266</td>\n",
              "    </tr>\n",
              "    <tr>\n",
              "      <th>25</th>\n",
              "      <td>1M_Toronto_UnempRate_15_54_yrs</td>\n",
              "      <td>116.386765</td>\n",
              "    </tr>\n",
              "  </tbody>\n",
              "</table>\n",
              "</div>"
            ],
            "text/plain": [
              "                                             col_name  rmse_score\n",
              "6                                              1M_Lag    2.314117\n",
              "2                        1Yr_MetroOntario_CPI_Shelter    5.089784\n",
              "3                         1M_MetroOntario_CPI_Shelter    7.219846\n",
              "11                     1Yr_Montreal_Single_Family_HPI   10.116904\n",
              "0                            1Yr_MetroOntario_CPI_All   10.632416\n",
              "5                                             1Yr_Lag   12.640199\n",
              "1                             1M_MetroOntario_CPI_all   15.436318\n",
              "32                                               Year   16.531603\n",
              "13  1M_RealEstate_GDP_Trading_AdjustedConstant_Bas...   17.366318\n",
              "30                                    1M_S&P500_Close   20.073721\n",
              "15                            1Yr_RetailSales_Toronto   22.099426\n",
              "14  1Yr_RealEstate_GDP_Trading_AdjustedConstant_Ba...   22.456560\n",
              "28                                      1M_Population   25.287388\n",
              "31              1Y_Bachelors_Degree_Ontario_NewRegAll   25.335423\n",
              "29                                    1Y_S&P500_Close   26.125611\n",
              "7             1Yr_GreaterVancounver_Single_Family_HPI   29.903146\n",
              "12                      1M_Montreal_Single_Family_HPI   30.492100\n",
              "8              1M_GreaterVancounver_Single_Family_HPI   35.992265\n",
              "16                             1M_RetailSales_Toronto   44.592955\n",
              "20  1Yr_Toronto_Median_Annual_Income_Lone_Parent_F...   82.598578\n",
              "9                       1Yr_Calgary_Single_Family_HPI   83.512812\n",
              "19   1Yr_Toronto_Median_Annual_Income_Couple_Families   84.691038\n",
              "10                       1M_Calgary_Single_Family_HPI   90.300156\n",
              "27                                 1M_BankRate_Canada  102.302014\n",
              "26                                1Yr_BankRate_Canada  106.853925\n",
              "17                                 1M_Avg_Temperature  107.918924\n",
              "4                                               Month  107.918943\n",
              "22           1Yr_Toronto_ConstructionCompletionsUnits  107.919227\n",
              "18                                       1Yr_Avg_Temp  107.919462\n",
              "23                 1M_Toronto_ConstructionStartsUnits  108.171008\n",
              "24                1Yr_Toronto_ConstructionStartsUnits  108.264522\n",
              "21            1M_Toronto_ConstructionCompletionsUnits  108.342266\n",
              "25                     1M_Toronto_UnempRate_15_54_yrs  116.386765"
            ]
          },
          "metadata": {
            "tags": []
          }
        }
      ]
    },
    {
      "cell_type": "code",
      "metadata": {
        "colab": {
          "base_uri": "https://localhost:8080/"
        },
        "id": "yM6RO1Aobn8y",
        "outputId": "dab0d7f6-6397-475a-ea3e-a1fe80968204"
      },
      "source": [
        "print(X_train_sel.shape)\n",
        "print(X_test_sel.shape)"
      ],
      "execution_count": 179,
      "outputs": [
        {
          "output_type": "stream",
          "text": [
            "(153, 33)\n",
            "(27, 33)\n"
          ],
          "name": "stdout"
        }
      ]
    },
    {
      "cell_type": "code",
      "metadata": {
        "colab": {
          "base_uri": "https://localhost:8080/"
        },
        "id": "_VCtJArdj_qu",
        "outputId": "b1372a02-fdf7-4a01-830e-9aa1266edc5a"
      },
      "source": [
        "# Feature selction stage 2\n",
        "X_train_final, X_test_final = feat_selection_step_2(X_train_sel,X_test_sel, threshold = 0.4)"
      ],
      "execution_count": 180,
      "outputs": [
        {
          "output_type": "stream",
          "text": [
            "Dropped: 1Yr_MetroOntario_CPI_Shelter\n",
            "Dropped: 1M_MetroOntario_CPI_Shelter\n",
            "Dropped: 1Yr_Montreal_Single_Family_HPI\n",
            "Dropped: 1Yr_MetroOntario_CPI_All\n",
            "Dropped: 1Yr_Lag\n",
            "Dropped: 1M_MetroOntario_CPI_all\n",
            "Dropped: 1M_RealEstate_GDP_Trading_AdjustedConstant_BasePrice\n",
            "Dropped: 1M_S&P500_Close\n",
            "Dropped: 1Yr_RetailSales_Toronto\n",
            "Dropped: 1Yr_RealEstate_GDP_Trading_AdjustedConstant_BasePrice\n",
            "Dropped: 1M_Population\n",
            "Dropped: 1Y_Bachelors_Degree_Ontario_NewRegAll\n",
            "Dropped: 1Y_S&P500_Close\n",
            "Dropped: 1Yr_GreaterVancounver_Single_Family_HPI\n",
            "Dropped: 1M_Montreal_Single_Family_HPI\n",
            "Dropped: 1M_GreaterVancounver_Single_Family_HPI\n",
            "Dropped: 1M_RetailSales_Toronto\n",
            "Dropped: 1Yr_Toronto_Median_Annual_Income_Lone_Parent_Families\n",
            "Dropped: 1Yr_Calgary_Single_Family_HPI\n",
            "Dropped: 1Yr_Toronto_Median_Annual_Income_Couple_Families\n",
            "Dropped: 1M_Calgary_Single_Family_HPI\n",
            "Dropped: 1Yr_BankRate_Canada\n",
            "Dropped: Month\n",
            "Dropped: 1Yr_Avg_Temp\n"
          ],
          "name": "stdout"
        }
      ]
    },
    {
      "cell_type": "code",
      "metadata": {
        "colab": {
          "base_uri": "https://localhost:8080/"
        },
        "id": "Fk7MN_Waa06e",
        "outputId": "46914423-9a25-47ac-aacd-b64b008eab7a"
      },
      "source": [
        "print(X_train_final.shape)\n",
        "print(X_test_final.shape)"
      ],
      "execution_count": 181,
      "outputs": [
        {
          "output_type": "stream",
          "text": [
            "(153, 9)\n",
            "(27, 9)\n"
          ],
          "name": "stdout"
        }
      ]
    },
    {
      "cell_type": "markdown",
      "metadata": {
        "id": "7jhz7N8kkfCG"
      },
      "source": [
        "#Hyperparameter tuning"
      ]
    },
    {
      "cell_type": "code",
      "metadata": {
        "id": "GYe9F-rPkR93"
      },
      "source": [
        "params = [{\n",
        "#     XGRegessor\n",
        "    'learning_rate': [i/10.0 for i in range(0,10)],\n",
        "    'n_estimators': range(0,400,50),\n",
        "    'max_depth':range(1,8,1),\n",
        "    'gamma':[i/10.0 for i in range(0,5)],\n",
        "        },\n",
        "    { \n",
        "#     BaysianRidge\n",
        "    'alpha_1': [0.00001, 0.0001, 0.001, 0.01, 0.1, 1, 10, 100, 1000],\n",
        "    'alpha_2': [0.00001, 0.0001, 0.001, 0.01, 0.1, 1, 10, 100, 1000],\n",
        "    'fit_intercept': [True, False],    \n",
        "    },\n",
        "    { \n",
        "#     ARD regressor\n",
        "    'alpha_1': [0.00001, 0.0001, 0.001, 0.01, 0.1, 1, 10, 100, 1000],\n",
        "    'alpha_2': [0.00001, 0.0001, 0.001, 0.01, 0.1, 1, 10, 100, 1000],\n",
        "    'lambda_1': [0.00001, 0.0001, 0.001, 0.01, 0.1, 1, 10, 100, 1000],\n",
        "    'lambda_2': [0.00001, 0.0001, 0.001, 0.01, 0.1, 1, 10, 100, 1000],\n",
        "    'fit_intercept': [True, False],    \n",
        "    }]"
      ],
      "execution_count": 182,
      "outputs": []
    },
    {
      "cell_type": "code",
      "metadata": {
        "colab": {
          "base_uri": "https://localhost:8080/"
        },
        "id": "WVTYZlN1kjYw",
        "outputId": "5575415d-2f90-491c-a52a-053ba891784e"
      },
      "source": [
        "folds = 3\n",
        "\n",
        "tuned_params, tuned_model = tuner(params=params[model_num - 1], folds=folds, model=model, X_train=X_train_final, y_train=y_train)\n",
        "\n",
        "# Retrain tuned model and test RMSE\n",
        "tuned_model = tuned_model.fit(X_train_final,y_train)\n",
        "df_test_results = predict_test_values(tuned_model, X_test_final, y_test, X_test_date, X_train_final, y_train)"
      ],
      "execution_count": 183,
      "outputs": [
        {
          "output_type": "stream",
          "text": [
            "Fitting 3 folds for each of 3 candidates, totalling 9 fits\n",
            "\n",
            "Best hyperparameters:  {'fit_intercept': True, 'alpha_2': 0.001, 'alpha_1': 10} \n",
            "Best Score:  -2.8028432974743427\n",
            "RMSE of Test Data: 2.375609582593843\n",
            "Adjusted R2 of Train Data: 0.9973885816484234\n",
            "R2 of Test Data: 0.9791687992857832\n"
          ],
          "name": "stdout"
        },
        {
          "output_type": "stream",
          "text": [
            "[Parallel(n_jobs=4)]: Using backend LokyBackend with 4 concurrent workers.\n",
            "[Parallel(n_jobs=4)]: Done   6 out of   9 | elapsed:    0.1s remaining:    0.0s\n",
            "[Parallel(n_jobs=4)]: Done   9 out of   9 | elapsed:    0.1s finished\n"
          ],
          "name": "stderr"
        }
      ]
    },
    {
      "cell_type": "markdown",
      "metadata": {
        "id": "zA_nycTpwiDr"
      },
      "source": [
        "#Re-train Optimized Model"
      ]
    },
    {
      "cell_type": "code",
      "metadata": {
        "id": "tzX8Ccf9wf5O"
      },
      "source": [
        "model = tuned_model.fit(X_train_final,y_train)"
      ],
      "execution_count": 184,
      "outputs": []
    },
    {
      "cell_type": "code",
      "metadata": {
        "id": "V5cmeYpHknMt",
        "colab": {
          "base_uri": "https://localhost:8080/",
          "height": 573
        },
        "outputId": "d8722e86-214c-413c-9bbc-598fdca34525"
      },
      "source": [
        "df_test_results = predict_test_values(model, X_test_final, y_test, X_test_date, X_train_final, y_train)\n",
        "plt.rcParams[\"figure.figsize\"] = (25,8)\n",
        "plot_test_results(df_test_results, model_num)"
      ],
      "execution_count": 185,
      "outputs": [
        {
          "output_type": "stream",
          "text": [
            "RMSE of Test Data: 2.375609582593843\n",
            "Adjusted R2 of Train Data: 0.9973885816484234\n",
            "R2 of Test Data: 0.9791687992857832\n"
          ],
          "name": "stdout"
        },
        {
          "output_type": "display_data",
          "data": {
            "image/png": "[encoded data removed]",
            "text/plain": [
              "<Figure size 1800x576 with 1 Axes>"
            ]
          },
          "metadata": {
            "tags": [],
            "needs_background": "light"
          }
        }
      ]
    },
    {
      "cell_type": "code",
      "metadata": {
        "colab": {
          "base_uri": "https://localhost:8080/"
        },
        "id": "ahUYo6QUwmYu",
        "outputId": "9fcdfe64-abf1-4f00-a78a-7772490619c2"
      },
      "source": [
        "print ('Columns to use for Feature Selection Slides')\n",
        "X_train_final.columns"
      ],
      "execution_count": 186,
      "outputs": [
        {
          "output_type": "stream",
          "text": [
            "Columns to use for Feature Selection Slides\n"
          ],
          "name": "stdout"
        },
        {
          "output_type": "execute_result",
          "data": {
            "text/plain": [
              "Index(['1M_Lag', 'Year', '1M_BankRate_Canada', '1M_Avg_Temperature',\n",
              "       '1Yr_Toronto_ConstructionCompletionsUnits',\n",
              "       '1M_Toronto_ConstructionStartsUnits',\n",
              "       '1Yr_Toronto_ConstructionStartsUnits',\n",
              "       '1M_Toronto_ConstructionCompletionsUnits',\n",
              "       '1M_Toronto_UnempRate_15_54_yrs'],\n",
              "      dtype='object')"
            ]
          },
          "metadata": {
            "tags": []
          },
          "execution_count": 186
        }
      ]
    },
    {
      "cell_type": "code",
      "metadata": {
        "id": "A0uPbA6vw8zr"
      },
      "source": [
        "pd.DataFrame(list(zip(X_train_final.columns,model.coef_))).to_csv('bayesian_feature_selection_coef2.csv')"
      ],
      "execution_count": 187,
      "outputs": []
    },
    {
      "cell_type": "code",
      "metadata": {
        "colab": {
          "base_uri": "https://localhost:8080/"
        },
        "id": "yGiXoPbHw-3r",
        "outputId": "7599c620-846b-4c6a-eb4b-a426b8febc96"
      },
      "source": [
        "model.intercept_"
      ],
      "execution_count": 203,
      "outputs": [
        {
          "output_type": "execute_result",
          "data": {
            "text/plain": [
              "162.81764705882358"
            ]
          },
          "metadata": {
            "tags": []
          },
          "execution_count": 203
        }
      ]
    },
    {
      "cell_type": "code",
      "metadata": {
        "colab": {
          "base_uri": "https://localhost:8080/"
        },
        "id": "F8ulUBaxxAZb",
        "outputId": "7ff993da-7cd9-4122-bc7e-7802be45b735"
      },
      "source": [
        "list(zip(X_train_final.columns,model.coef_))"
      ],
      "execution_count": 200,
      "outputs": [
        {
          "output_type": "execute_result",
          "data": {
            "text/plain": [
              "[('1M_Lag', 48.63823008721504),\n",
              " ('Year', 0.9958024588211025),\n",
              " ('1M_BankRate_Canada', 0.03411502604120927),\n",
              " ('1M_Avg_Temperature', -0.9864502151412484),\n",
              " ('1Yr_Toronto_ConstructionCompletionsUnits', 0.09917572104901964),\n",
              " ('1M_Toronto_ConstructionStartsUnits', 0.1537977642702887),\n",
              " ('1Yr_Toronto_ConstructionStartsUnits', 0.3093763136215155),\n",
              " ('1M_Toronto_ConstructionCompletionsUnits', 0.2452358133605072),\n",
              " ('1M_Toronto_UnempRate_15_54_yrs', 0.24431542122738142)]"
            ]
          },
          "metadata": {
            "tags": []
          },
          "execution_count": 200
        }
      ]
    },
    {
      "cell_type": "code",
      "metadata": {
        "id": "8VigERnXxDkM",
        "colab": {
          "base_uri": "https://localhost:8080/",
          "height": 572
        },
        "outputId": "0aa08017-1968-41d1-e2ee-802714feb6de"
      },
      "source": [
        "# distribution with standardized data\n",
        "import seaborn as sns\n",
        "df_std = X_train_final.melt(var_name='Features', value_name='Standardized')\n",
        "plt.figure(figsize=(12, 6))\n",
        "ax = sns.violinplot(x='Features', y='Standardized', data=df_std)\n",
        "_ = ax.set_xticklabels(X_train_final.columns, rotation=90)"
      ],
      "execution_count": 202,
      "outputs": [
        {
          "output_type": "display_data",
          "data": {
            "image/png": "[encoded data removed]",
            "text/plain": [
              "<Figure size 864x432 with 1 Axes>"
            ]
          },
          "metadata": {
            "tags": [],
            "needs_background": "light"
          }
        }
      ]
    },
    {
      "cell_type": "code",
      "metadata": {
        "colab": {
          "base_uri": "https://localhost:8080/",
          "height": 671
        },
        "id": "Oc1HBZfkfOKz",
        "outputId": "6e66ef91-4250-4d37-f893-a7fbdbdf9728"
      },
      "source": [
        "sns.heatmap(X_train_final.corr(), annot=True, fmt=\".2f\")\n",
        "plt.show()"
      ],
      "execution_count": 191,
      "outputs": [
        {
          "output_type": "display_data",
          "data": {
            "image/png": "[encoded data removed]",
            "text/plain": [
              "<Figure size 1800x576 with 2 Axes>"
            ]
          },
          "metadata": {
            "tags": [],
            "needs_background": "light"
          }
        }
      ]
    }
  ]
}