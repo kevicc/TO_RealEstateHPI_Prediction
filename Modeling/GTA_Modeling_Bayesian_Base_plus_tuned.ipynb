{
  "nbformat": 4,
  "nbformat_minor": 0,
  "metadata": {
    "kernelspec": {
      "display_name": "Python 3",
      "language": "python",
      "name": "python3"
    },
    "language_info": {
      "codemirror_mode": {
        "name": "ipython",
        "version": 3
      },
      "file_extension": ".py",
      "mimetype": "text/x-python",
      "name": "python",
      "nbconvert_exporter": "python",
      "pygments_lexer": "ipython3",
      "version": "3.8.5"
    },
    "colab": {
      "name": "GTA_Modeling_Bayesian_Base_plus_tuned.ipynb",
      "provenance": [],
      "collapsed_sections": []
    }
  },
  "cells": [
    {
      "cell_type": "markdown",
      "metadata": {
        "id": "W9gTID0JW1j2"
      },
      "source": [
        "##Import packages & load data"
      ]
    },
    {
      "cell_type": "code",
      "metadata": {
        "id": "srM8OZVePBQj",
        "colab": {
          "base_uri": "https://localhost:8080/"
        },
        "outputId": "8f476e41-a70f-47c2-a931-bdd06d5f3c45"
      },
      "source": [
        "import pandas as pd\n",
        "import numpy as np\n",
        "from numpy import where\n",
        "\n",
        "!pip install autoimpute\n",
        "from autoimpute.imputations import SingleImputer\n",
        "\n",
        "import xgboost as xgb\n",
        "import sklearn\n",
        "from sklearn.preprocessing import StandardScaler, MinMaxScaler\n",
        "from sklearn.model_selection import train_test_split\n",
        "from sklearn.metrics import mean_squared_error, r2_score\n",
        "from yellowbrick.regressor import ResidualsPlot, PredictionError\n",
        "from sklearn.linear_model import LinearRegression, ARDRegression, BayesianRidge, Lasso, SGDRegressor\n",
        "import matplotlib.pyplot as plt\n",
        "from matplotlib import pyplot\n",
        "\n",
        "# Hyperparameter Tuning Packages\n",
        "from sklearn.model_selection import RandomizedSearchCV, GridSearchCV\n",
        "from sklearn.model_selection import KFold, TimeSeriesSplit\n",
        "\n",
        "from xgboost import plot_importance\n",
        "!pip install shap\n",
        "import shap"
      ],
      "execution_count": 1,
      "outputs": [
        {
          "output_type": "stream",
          "text": [
            "Requirement already satisfied: autoimpute in /usr/local/lib/python3.7/dist-packages (0.12.2)\n",
            "Requirement already satisfied: missingno in /usr/local/lib/python3.7/dist-packages (from autoimpute) (0.4.2)\n",
            "Requirement already satisfied: scipy in /usr/local/lib/python3.7/dist-packages (from autoimpute) (1.4.1)\n",
            "Requirement already satisfied: statsmodels in /usr/local/lib/python3.7/dist-packages (from autoimpute) (0.10.2)\n",
            "Requirement already satisfied: pymc3 in /usr/local/lib/python3.7/dist-packages (from autoimpute) (3.11.2)\n",
            "Requirement already satisfied: pandas in /usr/local/lib/python3.7/dist-packages (from autoimpute) (1.1.5)\n",
            "Requirement already satisfied: seaborn in /usr/local/lib/python3.7/dist-packages (from autoimpute) (0.11.1)\n",
            "Requirement already satisfied: scikit-learn in /usr/local/lib/python3.7/dist-packages (from autoimpute) (0.22.2.post1)\n",
            "Requirement already satisfied: numpy in /usr/local/lib/python3.7/dist-packages (from autoimpute) (1.19.5)\n",
            "Requirement already satisfied: xgboost in /usr/local/lib/python3.7/dist-packages (from autoimpute) (0.90)\n",
            "Requirement already satisfied: matplotlib in /usr/local/lib/python3.7/dist-packages (from missingno->autoimpute) (3.2.2)\n",
            "Requirement already satisfied: patsy>=0.4.0 in /usr/local/lib/python3.7/dist-packages (from statsmodels->autoimpute) (0.5.1)\n",
            "Requirement already satisfied: semver in /usr/local/lib/python3.7/dist-packages (from pymc3->autoimpute) (2.13.0)\n",
            "Requirement already satisfied: typing-extensions>=3.7.4 in /usr/local/lib/python3.7/dist-packages (from pymc3->autoimpute) (3.7.4.3)\n",
            "Requirement already satisfied: cachetools>=4.2.1 in /usr/local/lib/python3.7/dist-packages (from pymc3->autoimpute) (4.2.2)\n",
            "Requirement already satisfied: dill in /usr/local/lib/python3.7/dist-packages (from pymc3->autoimpute) (0.3.3)\n",
            "Requirement already satisfied: arviz>=0.11.0 in /usr/local/lib/python3.7/dist-packages (from pymc3->autoimpute) (0.11.2)\n",
            "Requirement already satisfied: theano-pymc==1.1.2 in /usr/local/lib/python3.7/dist-packages (from pymc3->autoimpute) (1.1.2)\n",
            "Requirement already satisfied: fastprogress>=0.2.0 in /usr/local/lib/python3.7/dist-packages (from pymc3->autoimpute) (1.0.0)\n",
            "Requirement already satisfied: python-dateutil>=2.7.3 in /usr/local/lib/python3.7/dist-packages (from pandas->autoimpute) (2.8.1)\n",
            "Requirement already satisfied: pytz>=2017.2 in /usr/local/lib/python3.7/dist-packages (from pandas->autoimpute) (2018.9)\n",
            "Requirement already satisfied: joblib>=0.11 in /usr/local/lib/python3.7/dist-packages (from scikit-learn->autoimpute) (1.0.1)\n",
            "Requirement already satisfied: kiwisolver>=1.0.1 in /usr/local/lib/python3.7/dist-packages (from matplotlib->missingno->autoimpute) (1.3.1)\n",
            "Requirement already satisfied: pyparsing!=2.0.4,!=2.1.2,!=2.1.6,>=2.0.1 in /usr/local/lib/python3.7/dist-packages (from matplotlib->missingno->autoimpute) (2.4.7)\n",
            "Requirement already satisfied: cycler>=0.10 in /usr/local/lib/python3.7/dist-packages (from matplotlib->missingno->autoimpute) (0.10.0)\n",
            "Requirement already satisfied: six in /usr/local/lib/python3.7/dist-packages (from patsy>=0.4.0->statsmodels->autoimpute) (1.15.0)\n",
            "Requirement already satisfied: xarray>=0.16.1 in /usr/local/lib/python3.7/dist-packages (from arviz>=0.11.0->pymc3->autoimpute) (0.18.2)\n",
            "Requirement already satisfied: packaging in /usr/local/lib/python3.7/dist-packages (from arviz>=0.11.0->pymc3->autoimpute) (20.9)\n",
            "Requirement already satisfied: netcdf4 in /usr/local/lib/python3.7/dist-packages (from arviz>=0.11.0->pymc3->autoimpute) (1.5.6)\n",
            "Requirement already satisfied: setuptools>=38.4 in /usr/local/lib/python3.7/dist-packages (from arviz>=0.11.0->pymc3->autoimpute) (57.0.0)\n",
            "Requirement already satisfied: filelock in /usr/local/lib/python3.7/dist-packages (from theano-pymc==1.1.2->pymc3->autoimpute) (3.0.12)\n",
            "Requirement already satisfied: cftime in /usr/local/lib/python3.7/dist-packages (from netcdf4->arviz>=0.11.0->pymc3->autoimpute) (1.5.0)\n"
          ],
          "name": "stdout"
        },
        {
          "output_type": "stream",
          "text": [
            "/usr/local/lib/python3.7/dist-packages/sklearn/utils/deprecation.py:144: FutureWarning: The sklearn.metrics.classification module is  deprecated in version 0.22 and will be removed in version 0.24. The corresponding classes / functions should instead be imported from sklearn.metrics. Anything that cannot be imported from sklearn.metrics is now part of the private API.\n",
            "  warnings.warn(message, FutureWarning)\n"
          ],
          "name": "stderr"
        },
        {
          "output_type": "stream",
          "text": [
            "Requirement already satisfied: shap in /usr/local/lib/python3.7/dist-packages (0.39.0)\n",
            "Requirement already satisfied: tqdm>4.25.0 in /usr/local/lib/python3.7/dist-packages (from shap) (4.41.1)\n",
            "Requirement already satisfied: cloudpickle in /usr/local/lib/python3.7/dist-packages (from shap) (1.3.0)\n",
            "Requirement already satisfied: scikit-learn in /usr/local/lib/python3.7/dist-packages (from shap) (0.22.2.post1)\n",
            "Requirement already satisfied: scipy in /usr/local/lib/python3.7/dist-packages (from shap) (1.4.1)\n",
            "Requirement already satisfied: numba in /usr/local/lib/python3.7/dist-packages (from shap) (0.51.2)\n",
            "Requirement already satisfied: numpy in /usr/local/lib/python3.7/dist-packages (from shap) (1.19.5)\n",
            "Requirement already satisfied: pandas in /usr/local/lib/python3.7/dist-packages (from shap) (1.1.5)\n",
            "Requirement already satisfied: slicer==0.0.7 in /usr/local/lib/python3.7/dist-packages (from shap) (0.0.7)\n",
            "Requirement already satisfied: joblib>=0.11 in /usr/local/lib/python3.7/dist-packages (from scikit-learn->shap) (1.0.1)\n",
            "Requirement already satisfied: setuptools in /usr/local/lib/python3.7/dist-packages (from numba->shap) (57.0.0)\n",
            "Requirement already satisfied: llvmlite<0.35,>=0.34.0.dev0 in /usr/local/lib/python3.7/dist-packages (from numba->shap) (0.34.0)\n",
            "Requirement already satisfied: python-dateutil>=2.7.3 in /usr/local/lib/python3.7/dist-packages (from pandas->shap) (2.8.1)\n",
            "Requirement already satisfied: pytz>=2017.2 in /usr/local/lib/python3.7/dist-packages (from pandas->shap) (2018.9)\n",
            "Requirement already satisfied: six>=1.5 in /usr/local/lib/python3.7/dist-packages (from python-dateutil>=2.7.3->pandas->shap) (1.15.0)\n"
          ],
          "name": "stdout"
        }
      ]
    },
    {
      "cell_type": "code",
      "metadata": {
        "colab": {
          "base_uri": "https://localhost:8080/"
        },
        "id": "2AHoq8MVP4L0",
        "outputId": "5ab6393d-45b0-4d29-de15-25d9afe6a7a1"
      },
      "source": [
        "from google.colab import drive\n",
        "drive.mount('/content/drive')"
      ],
      "execution_count": 2,
      "outputs": [
        {
          "output_type": "stream",
          "text": [
            "Drive already mounted at /content/drive; to attempt to forcibly remount, call drive.mount(\"/content/drive\", force_remount=True).\n"
          ],
          "name": "stdout"
        }
      ]
    },
    {
      "cell_type": "code",
      "metadata": {
        "id": "qIZbo7iaPBQm"
      },
      "source": [
        "# Read the excel dataset\n",
        "df = pd.read_excel('/content/drive/MyDrive/Alfred_Dataset.xlsx')"
      ],
      "execution_count": 3,
      "outputs": []
    },
    {
      "cell_type": "code",
      "metadata": {
        "colab": {
          "base_uri": "https://localhost:8080/",
          "height": 228
        },
        "id": "fuoJZTRGPBQn",
        "outputId": "2025085e-9782-46e5-adba-35a560c2c267"
      },
      "source": [
        "# check sample\n",
        "print(df.shape)\n",
        "df.head(3)"
      ],
      "execution_count": 4,
      "outputs": [
        {
          "output_type": "stream",
          "text": [
            "(180, 36)\n"
          ],
          "name": "stdout"
        },
        {
          "output_type": "execute_result",
          "data": {
            "text/html": [
              "<div>\n",
              "<style scoped>\n",
              "    .dataframe tbody tr th:only-of-type {\n",
              "        vertical-align: middle;\n",
              "    }\n",
              "\n",
              "    .dataframe tbody tr th {\n",
              "        vertical-align: top;\n",
              "    }\n",
              "\n",
              "    .dataframe thead th {\n",
              "        text-align: right;\n",
              "    }\n",
              "</style>\n",
              "<table border=\"1\" class=\"dataframe\">\n",
              "  <thead>\n",
              "    <tr style=\"text-align: right;\">\n",
              "      <th></th>\n",
              "      <th>Date</th>\n",
              "      <th>Target_GreaterToronto_Single_Family_HPI</th>\n",
              "      <th>1Yr_MetroOntario_CPI_All</th>\n",
              "      <th>1M_MetroOntario_CPI_all</th>\n",
              "      <th>1Yr_MetroOntario_CPI_Shelter</th>\n",
              "      <th>1M_MetroOntario_CPI_Shelter</th>\n",
              "      <th>Month</th>\n",
              "      <th>1Yr_Lag</th>\n",
              "      <th>1M_Lag</th>\n",
              "      <th>1Yr_GreaterVancounver_Single_Family_HPI</th>\n",
              "      <th>1M_GreaterVancounver_Single_Family_HPI</th>\n",
              "      <th>1Yr_Calgary_Single_Family_HPI</th>\n",
              "      <th>1M_Calgary_Single_Family_HPI</th>\n",
              "      <th>1Yr_Montreal_Single_Family_HPI</th>\n",
              "      <th>1M_Montreal_Single_Family_HPI</th>\n",
              "      <th>1M_RealEstate_GDP_Trading_AdjustedConstant_BasePrice</th>\n",
              "      <th>1Yr_RealEstate_GDP_Trading_AdjustedConstant_BasePrice</th>\n",
              "      <th>1Yr_RetailSales_Toronto</th>\n",
              "      <th>1M_RetailSales_Toronto</th>\n",
              "      <th>1M_Avg_Temperature</th>\n",
              "      <th>1Yr_Avg_Temp</th>\n",
              "      <th>1M_Snow_onGround</th>\n",
              "      <th>1Yr_Snow_onGround</th>\n",
              "      <th>1Yr_Toronto_Median_Annual_Income_Couple_Families</th>\n",
              "      <th>1Yr_Toronto_Median_Annual_Income_Lone_Parent_Families</th>\n",
              "      <th>1M_Toronto_ConstructionCompletionsUnits</th>\n",
              "      <th>1Yr_Toronto_ConstructionCompletionsUnits</th>\n",
              "      <th>1M_Toronto_ConstructionStartsUnits</th>\n",
              "      <th>1Yr_Toronto_ConstructionStartsUnits</th>\n",
              "      <th>1M_Toronto_UnempRate_15_54_yrs</th>\n",
              "      <th>1Yr_BankRate_Canada</th>\n",
              "      <th>1M_BankRate_Canada</th>\n",
              "      <th>1M_Population</th>\n",
              "      <th>1Y_S&amp;P500_Close</th>\n",
              "      <th>1M_S&amp;P500_Close</th>\n",
              "      <th>1Y_Bachelors_Degree_Ontario_NewReg</th>\n",
              "    </tr>\n",
              "  </thead>\n",
              "  <tbody>\n",
              "    <tr>\n",
              "      <th>0</th>\n",
              "      <td>2006-01-01</td>\n",
              "      <td>106.4</td>\n",
              "      <td>105.1</td>\n",
              "      <td>107.6</td>\n",
              "      <td>107.4</td>\n",
              "      <td>110.2</td>\n",
              "      <td>1</td>\n",
              "      <td>100.0</td>\n",
              "      <td>105.7</td>\n",
              "      <td>100.0</td>\n",
              "      <td>110.4</td>\n",
              "      <td>100.0</td>\n",
              "      <td>114.7</td>\n",
              "      <td>100.0</td>\n",
              "      <td>103.8</td>\n",
              "      <td>14281</td>\n",
              "      <td>119542</td>\n",
              "      <td>4437136</td>\n",
              "      <td>4486253</td>\n",
              "      <td>-3.446452</td>\n",
              "      <td>-6.829677</td>\n",
              "      <td>1.348387</td>\n",
              "      <td>1.070968</td>\n",
              "      <td>69900.0</td>\n",
              "      <td>31600.0</td>\n",
              "      <td>3296</td>\n",
              "      <td>3173</td>\n",
              "      <td>3401</td>\n",
              "      <td>1681</td>\n",
              "      <td>NaN</td>\n",
              "      <td>2.75</td>\n",
              "      <td>3.50</td>\n",
              "      <td>5035000.000</td>\n",
              "      <td>1181.27</td>\n",
              "      <td>1248.29</td>\n",
              "      <td>11928</td>\n",
              "    </tr>\n",
              "    <tr>\n",
              "      <th>1</th>\n",
              "      <td>2006-02-01</td>\n",
              "      <td>107.4</td>\n",
              "      <td>105.8</td>\n",
              "      <td>108.2</td>\n",
              "      <td>107.9</td>\n",
              "      <td>111.7</td>\n",
              "      <td>2</td>\n",
              "      <td>101.3</td>\n",
              "      <td>106.4</td>\n",
              "      <td>100.5</td>\n",
              "      <td>112.6</td>\n",
              "      <td>101.1</td>\n",
              "      <td>118.9</td>\n",
              "      <td>100.9</td>\n",
              "      <td>104.7</td>\n",
              "      <td>14336</td>\n",
              "      <td>125963</td>\n",
              "      <td>4479503</td>\n",
              "      <td>4528948</td>\n",
              "      <td>0.200000</td>\n",
              "      <td>-3.995000</td>\n",
              "      <td>0.251613</td>\n",
              "      <td>1.192857</td>\n",
              "      <td>69900.0</td>\n",
              "      <td>31600.0</td>\n",
              "      <td>4427</td>\n",
              "      <td>2761</td>\n",
              "      <td>2660</td>\n",
              "      <td>2296</td>\n",
              "      <td>NaN</td>\n",
              "      <td>2.75</td>\n",
              "      <td>3.75</td>\n",
              "      <td>5042500.000</td>\n",
              "      <td>1203.60</td>\n",
              "      <td>1280.08</td>\n",
              "      <td>11928</td>\n",
              "    </tr>\n",
              "    <tr>\n",
              "      <th>2</th>\n",
              "      <td>2006-03-01</td>\n",
              "      <td>108.7</td>\n",
              "      <td>106.4</td>\n",
              "      <td>107.9</td>\n",
              "      <td>108.2</td>\n",
              "      <td>112.0</td>\n",
              "      <td>3</td>\n",
              "      <td>102.4</td>\n",
              "      <td>107.4</td>\n",
              "      <td>101.1</td>\n",
              "      <td>114.8</td>\n",
              "      <td>102.6</td>\n",
              "      <td>125.7</td>\n",
              "      <td>101.9</td>\n",
              "      <td>106.4</td>\n",
              "      <td>14601</td>\n",
              "      <td>124172</td>\n",
              "      <td>4376561</td>\n",
              "      <td>4556689</td>\n",
              "      <td>-3.567500</td>\n",
              "      <td>-1.621290</td>\n",
              "      <td>0.771429</td>\n",
              "      <td>0.825806</td>\n",
              "      <td>69900.0</td>\n",
              "      <td>31600.0</td>\n",
              "      <td>2882</td>\n",
              "      <td>5443</td>\n",
              "      <td>1539</td>\n",
              "      <td>2941</td>\n",
              "      <td>NaN</td>\n",
              "      <td>2.75</td>\n",
              "      <td>3.75</td>\n",
              "      <td>5050011.172</td>\n",
              "      <td>1180.59</td>\n",
              "      <td>1280.66</td>\n",
              "      <td>11928</td>\n",
              "    </tr>\n",
              "  </tbody>\n",
              "</table>\n",
              "</div>"
            ],
            "text/plain": [
              "        Date  ...  1Y_Bachelors_Degree_Ontario_NewReg\n",
              "0 2006-01-01  ...                               11928\n",
              "1 2006-02-01  ...                               11928\n",
              "2 2006-03-01  ...                               11928\n",
              "\n",
              "[3 rows x 36 columns]"
            ]
          },
          "metadata": {
            "tags": []
          },
          "execution_count": 4
        }
      ]
    },
    {
      "cell_type": "code",
      "metadata": {
        "id": "1z8YnMI3PBQo"
      },
      "source": [
        "# New column for date year\n",
        "df['Year'] = df['Date'].dt.year"
      ],
      "execution_count": 5,
      "outputs": []
    },
    {
      "cell_type": "markdown",
      "metadata": {
        "id": "Qc4P_wgiaPcA"
      },
      "source": [
        "#**Modeling**"
      ]
    },
    {
      "cell_type": "markdown",
      "metadata": {
        "id": "V-KwONMFaZWZ"
      },
      "source": [
        "#Functions"
      ]
    },
    {
      "cell_type": "code",
      "metadata": {
        "id": "dyWrllmkaSIH"
      },
      "source": [
        "def clean_data(df):\n",
        "   \n",
        "    clean_X = df.drop(['Target_GreaterToronto_Single_Family_HPI'], axis=1)\n",
        "    clean_Y = df['Target_GreaterToronto_Single_Family_HPI']\n",
        "    \n",
        "    return clean_X, clean_Y\n",
        "\n",
        "def split_data(clean_X, clean_Y, train_size):\n",
        "    row_num = int(clean_X.shape[0]*train_size)\n",
        "    \n",
        "    X_train = clean_X[:row_num].drop(['Date'], axis=1)\n",
        "    Y_train = clean_Y[:row_num]\n",
        "    \n",
        "    X_test  = clean_X[row_num:].drop(['Date'], axis=1)\n",
        "    Y_test  = clean_Y[row_num:]\n",
        "\n",
        "    X_test_date  = clean_X[row_num:][['Date']]\n",
        "\n",
        "    imputer = SingleImputer(strategy=\"mean\")\n",
        "    X_train = imputer.fit_transform(X_train)\n",
        "    X_test = imputer.transform(X_test)\n",
        "    \n",
        "    return X_train, X_test, Y_train, Y_test, X_test_date\n",
        "\n",
        "def adj_r2(X, y, y_pred):\n",
        "        r2 = r2_score(y,y_pred)\n",
        "        adj_r2 = (1 - (1 - r2) * ((X.shape[0] - 1) / (X.shape[0] - X.shape[1] - 1)))\n",
        "        return r2, adj_r2\n",
        "\n",
        "def predict_test_values(model, X_test, y_test, X_test_date, X_train, y_train):\n",
        "    y_test_pred = model.predict(X_test)\n",
        "    y_train_pred = model.predict(X_train)\n",
        "\n",
        "    y_test_pred_rmse = mean_squared_error(y_test,y_test_pred,squared=False)\n",
        "    print (f'RMSE of Test Data: {y_test_pred_rmse}')\n",
        "    \n",
        "    r2_train, adj_r2_train = adj_r2(X_train, y_train,y_train_pred)\n",
        "    r2_test, adj_r2_test = adj_r2(X_test, y_test, y_test_pred)\n",
        "    \n",
        "    print (f'Adjusted R2 of Train Data: {adj_r2_train}')\n",
        "    print (f'R2 of Test Data: {r2_test}')\n",
        "    \n",
        "    #Populate dataframe for plotting\n",
        "    df_test_actual = pd.DataFrame(y_test).rename({'TARGET':'y_test_actual'},axis=1).reset_index(drop=True)\n",
        "    df_test_pred = pd.DataFrame(y_test_pred,columns=['y_test_pred']).reset_index(drop=True)\n",
        "    df_test = pd.concat([X_test_date.reset_index(drop=True),df_test_actual,df_test_pred],axis=1)\n",
        "    \n",
        "    #Group results\n",
        "    df_test_results = df_test.groupby(['Date']).sum()\n",
        "    \n",
        "    return df_test_results\n",
        "\n",
        "def plot_test_results (df_test_results, model_num):\n",
        "    \n",
        "    model_names = {\n",
        "    1: 'XGBoost',\n",
        "    2: 'Bayesian',\n",
        "    3: 'ARD Regression',\n",
        "    4: 'Linear Regression',   \n",
        "    5: 'Lasso',\n",
        "    6: 'SGD'\n",
        "    }\n",
        "    title = model_names[model_num] + ' Actual vs. Model Results'\n",
        "    \n",
        "    plt.plot(df_test_results.index, df_test_results)\n",
        "    plt.xticks(rotation=90)\n",
        "    plt.title(title)\n",
        "    plt.legend(['Actual GreaterToronto_Single_Family_HPI','Predicted GreaterToronto_Single_Family_HPI']) \n",
        "    plt.grid(False)\n",
        "    return plt.show()\n",
        "\n",
        "def residual_plot(model,X, Y, hist=False,qqplot=True):\n",
        "    \"\"\"\n",
        "    Plot *residual* to understand Homoscedasticity and heteroskedasticity\n",
        "    Plot *q-q* plot for normality testing\n",
        "    \"\"\"\n",
        "    visualizer = ResidualsPlot(model,hist=hist, qqplot=qqplot)\n",
        "    visualizer.fit(X, Y) \n",
        "    return visualizer.show()\n",
        "\n",
        "def feat_selection_step_1(model_num, X_train, y_train, X_test, y_test, top):\n",
        "    \"\"\"\n",
        "    First stage of feature selection. Sort all faetures by predicitve power,\n",
        "    by testing performance of features individually on predicting the target\n",
        "    \"\"\"\n",
        "    rmse_score = []\n",
        "    for i in range(0,len(X_train.columns)):\n",
        "        X_train_samp = X_train.iloc[:, [i]]\n",
        "        X_test_samp = X_test.iloc[:, [i]]\n",
        "        model = models[model_num].fit(X_train_samp,y_train)\n",
        "        y_test_pred = model.predict(X_test_samp)\n",
        "        y_test_pred_rmse = mean_squared_error(y_test,y_test_pred,squared=False)\n",
        "        rmse_score.append(y_test_pred_rmse)\n",
        "        \n",
        "    feature_rank = pd.DataFrame(list(zip(X_train.columns,rmse_score)), columns=['col_name','rmse_score'])\n",
        "    feature_rank = feature_rank.sort_values('rmse_score')\n",
        "    \n",
        "    feature_rank = feature_rank.head(top)\n",
        "    \n",
        "    pd.set_option('display.max_rows', top)\n",
        "    display(feature_rank)\n",
        "    pd.set_option('display.max_rows', 20)\n",
        "    \n",
        "    \n",
        "    X_train = X_train[list(feature_rank.col_name)]\n",
        "    X_test  = X_test[list(feature_rank.col_name)]\n",
        "    \n",
        "    return feature_rank, X_train, X_test\n",
        "\n",
        "def feat_selection_step_2(train_data, test_data, threshold):\n",
        "    \"\"\"\n",
        "    Second stage of feature selection, using the top 50 features from stage 1, find the \n",
        "    single highest correlated feature to each of the 50 features using pearsons r.\n",
        "    \n",
        "    Remove cols higher then threshold.\n",
        "    \"\"\"\n",
        "    col_corr = set() # Set of all the names of deleted columns\n",
        "    corr_matrix = train_data.corr()\n",
        "    \n",
        "    for i in range(len(corr_matrix.columns)):\n",
        "        for j in range(i):\n",
        "            if (corr_matrix.iloc[i, j] >= threshold) and (corr_matrix.columns[j] not in col_corr):\n",
        "                colname = corr_matrix.columns[i] # getting the name of column\n",
        "                col_corr.add(colname)\n",
        "                if colname in train_data.columns:\n",
        "                    #if colname not in ['WEEK_START_DATE_MONTH','WEEK_END_DATE_MONTH','WEEK_START_DATE_WEEK','WEEK_END_DATE_WEEK']:\n",
        "                    if colname not in ['Year']:\n",
        "                        print('Dropped:', colname)\n",
        "                        del train_data[colname] # deleting the column from the dataset\n",
        "                        del test_data[colname]\n",
        "        \n",
        "    \n",
        "    return train_data, test_data\n",
        "\n",
        "\n",
        "def tuner(params, folds, model, X_train, y_train):\n",
        "    \"\"\"\n",
        "        Do a k fold hyperparamter tune using random search\n",
        "    \"\"\"\n",
        "    \n",
        "    kf = TimeSeriesSplit(n_splits=folds)\n",
        "    \n",
        "    random_search = RandomizedSearchCV(model, param_distributions=params, \n",
        "                                    n_iter=len(params), scoring='neg_root_mean_squared_error', n_jobs=4,\n",
        "                                       cv=kf.split(X_train,y_train), verbose=3, random_state=1001)\n",
        "    random_search.fit(X_train, y_train)\n",
        "    \n",
        "    print('\\nBest hyperparameters: ', random_search.best_params_, \"\\nBest Score: \", random_search.best_score_)\n",
        "\n",
        "    return random_search.best_params_, random_search.best_estimator_"
      ],
      "execution_count": 6,
      "outputs": []
    },
    {
      "cell_type": "code",
      "metadata": {
        "id": "-_eK6D3ua2sn"
      },
      "source": [
        "models = {\n",
        "    1: xgb.XGBRegressor(n_estimators=300, random_state=1, max_depth=1),\n",
        "    2: BayesianRidge(normalize=True, n_iter=1000),\n",
        "    3: ARDRegression(),\n",
        "    4: LinearRegression(),   \n",
        "    5: Lasso(),\n",
        "    6: SGDRegressor()\n",
        "\n",
        "}"
      ],
      "execution_count": 7,
      "outputs": []
    },
    {
      "cell_type": "markdown",
      "metadata": {
        "id": "BmMHNKz-ixFn"
      },
      "source": [
        "#Select a Model to Run"
      ]
    },
    {
      "cell_type": "code",
      "metadata": {
        "id": "Gz-u0tYEtLeE"
      },
      "source": [
        "train_size = 0.85 #adjustable\n",
        "\n",
        "clean_X, clean_Y = clean_data(df)\n",
        "X_train, X_test, y_train, y_test, X_test_date = split_data(clean_X, clean_Y, train_size = train_size)"
      ],
      "execution_count": 8,
      "outputs": []
    },
    {
      "cell_type": "code",
      "metadata": {
        "id": "jjbEvgWUiuVC"
      },
      "source": [
        "model_num = 2"
      ],
      "execution_count": 9,
      "outputs": []
    },
    {
      "cell_type": "markdown",
      "metadata": {
        "id": "EFGUJscpi4bq"
      },
      "source": [
        "##Model Building"
      ]
    },
    {
      "cell_type": "code",
      "metadata": {
        "colab": {
          "base_uri": "https://localhost:8080/"
        },
        "id": "k47-2jjli0ke",
        "outputId": "1a7c902d-04de-4533-8c6a-0e2e6a436f15"
      },
      "source": [
        "# Base model shows overfitting, negative r2 on test\n",
        "from sklearn.metrics import r2_score\n",
        "model = models[model_num].fit(X_train,y_train)\n",
        "y_pred_t = model.predict (X_train)\n",
        "y_pred_test = model.predict (X_test)\n",
        "print(\"r2 score on train: \",r2_score(y_train,y_pred_t))\n",
        "print(\"r2 score on train: \",r2_score(y_test,y_pred_test))\n",
        "print(f'RMSE {mean_squared_error(y_test,y_pred_test,squared=False)}')"
      ],
      "execution_count": 10,
      "outputs": [
        {
          "output_type": "stream",
          "text": [
            "r2 score on train:  0.9984937590785247\n",
            "r2 score on train:  -0.206633518150396\n",
            "RMSE 18.08029904025591\n"
          ],
          "name": "stdout"
        }
      ]
    },
    {
      "cell_type": "markdown",
      "metadata": {
        "id": "VE9j0sFLj6JP"
      },
      "source": [
        "#Feature Selection"
      ]
    },
    {
      "cell_type": "code",
      "metadata": {
        "colab": {
          "base_uri": "https://localhost:8080/",
          "height": 1000
        },
        "id": "QmIEpcNejIkA",
        "outputId": "e3cf5a5e-9313-45a7-e5c8-4b649da07570"
      },
      "source": [
        "# Feature selction stage 1\n",
        "feature_rank, X_train_sel,X_test_sel = feat_selection_step_1(model_num, X_train,y_train, X_test, y_test, top=50)"
      ],
      "execution_count": 11,
      "outputs": [
        {
          "output_type": "display_data",
          "data": {
            "text/html": [
              "<div>\n",
              "<style scoped>\n",
              "    .dataframe tbody tr th:only-of-type {\n",
              "        vertical-align: middle;\n",
              "    }\n",
              "\n",
              "    .dataframe tbody tr th {\n",
              "        vertical-align: top;\n",
              "    }\n",
              "\n",
              "    .dataframe thead th {\n",
              "        text-align: right;\n",
              "    }\n",
              "</style>\n",
              "<table border=\"1\" class=\"dataframe\">\n",
              "  <thead>\n",
              "    <tr style=\"text-align: right;\">\n",
              "      <th></th>\n",
              "      <th>col_name</th>\n",
              "      <th>rmse_score</th>\n",
              "    </tr>\n",
              "  </thead>\n",
              "  <tbody>\n",
              "    <tr>\n",
              "      <th>6</th>\n",
              "      <td>1M_Lag</td>\n",
              "      <td>2.314117</td>\n",
              "    </tr>\n",
              "    <tr>\n",
              "      <th>2</th>\n",
              "      <td>1Yr_MetroOntario_CPI_Shelter</td>\n",
              "      <td>5.089784</td>\n",
              "    </tr>\n",
              "    <tr>\n",
              "      <th>3</th>\n",
              "      <td>1M_MetroOntario_CPI_Shelter</td>\n",
              "      <td>7.219846</td>\n",
              "    </tr>\n",
              "    <tr>\n",
              "      <th>11</th>\n",
              "      <td>1Yr_Montreal_Single_Family_HPI</td>\n",
              "      <td>10.116904</td>\n",
              "    </tr>\n",
              "    <tr>\n",
              "      <th>0</th>\n",
              "      <td>1Yr_MetroOntario_CPI_All</td>\n",
              "      <td>10.632416</td>\n",
              "    </tr>\n",
              "    <tr>\n",
              "      <th>5</th>\n",
              "      <td>1Yr_Lag</td>\n",
              "      <td>12.640199</td>\n",
              "    </tr>\n",
              "    <tr>\n",
              "      <th>1</th>\n",
              "      <td>1M_MetroOntario_CPI_all</td>\n",
              "      <td>15.436318</td>\n",
              "    </tr>\n",
              "    <tr>\n",
              "      <th>34</th>\n",
              "      <td>Year</td>\n",
              "      <td>16.531603</td>\n",
              "    </tr>\n",
              "    <tr>\n",
              "      <th>13</th>\n",
              "      <td>1M_RealEstate_GDP_Trading_AdjustedConstant_Bas...</td>\n",
              "      <td>17.366318</td>\n",
              "    </tr>\n",
              "    <tr>\n",
              "      <th>32</th>\n",
              "      <td>1M_S&amp;P500_Close</td>\n",
              "      <td>20.073721</td>\n",
              "    </tr>\n",
              "    <tr>\n",
              "      <th>15</th>\n",
              "      <td>1Yr_RetailSales_Toronto</td>\n",
              "      <td>22.099426</td>\n",
              "    </tr>\n",
              "    <tr>\n",
              "      <th>14</th>\n",
              "      <td>1Yr_RealEstate_GDP_Trading_AdjustedConstant_Ba...</td>\n",
              "      <td>22.456560</td>\n",
              "    </tr>\n",
              "    <tr>\n",
              "      <th>30</th>\n",
              "      <td>1M_Population</td>\n",
              "      <td>25.287388</td>\n",
              "    </tr>\n",
              "    <tr>\n",
              "      <th>31</th>\n",
              "      <td>1Y_S&amp;P500_Close</td>\n",
              "      <td>26.125611</td>\n",
              "    </tr>\n",
              "    <tr>\n",
              "      <th>7</th>\n",
              "      <td>1Yr_GreaterVancounver_Single_Family_HPI</td>\n",
              "      <td>29.903146</td>\n",
              "    </tr>\n",
              "    <tr>\n",
              "      <th>12</th>\n",
              "      <td>1M_Montreal_Single_Family_HPI</td>\n",
              "      <td>30.492100</td>\n",
              "    </tr>\n",
              "    <tr>\n",
              "      <th>8</th>\n",
              "      <td>1M_GreaterVancounver_Single_Family_HPI</td>\n",
              "      <td>35.992265</td>\n",
              "    </tr>\n",
              "    <tr>\n",
              "      <th>16</th>\n",
              "      <td>1M_RetailSales_Toronto</td>\n",
              "      <td>44.592955</td>\n",
              "    </tr>\n",
              "    <tr>\n",
              "      <th>22</th>\n",
              "      <td>1Yr_Toronto_Median_Annual_Income_Lone_Parent_F...</td>\n",
              "      <td>82.598578</td>\n",
              "    </tr>\n",
              "    <tr>\n",
              "      <th>9</th>\n",
              "      <td>1Yr_Calgary_Single_Family_HPI</td>\n",
              "      <td>83.512812</td>\n",
              "    </tr>\n",
              "    <tr>\n",
              "      <th>21</th>\n",
              "      <td>1Yr_Toronto_Median_Annual_Income_Couple_Families</td>\n",
              "      <td>84.691038</td>\n",
              "    </tr>\n",
              "    <tr>\n",
              "      <th>10</th>\n",
              "      <td>1M_Calgary_Single_Family_HPI</td>\n",
              "      <td>90.300156</td>\n",
              "    </tr>\n",
              "    <tr>\n",
              "      <th>29</th>\n",
              "      <td>1M_BankRate_Canada</td>\n",
              "      <td>102.302014</td>\n",
              "    </tr>\n",
              "    <tr>\n",
              "      <th>28</th>\n",
              "      <td>1Yr_BankRate_Canada</td>\n",
              "      <td>106.853925</td>\n",
              "    </tr>\n",
              "    <tr>\n",
              "      <th>33</th>\n",
              "      <td>1Y_Bachelors_Degree_Ontario_NewReg</td>\n",
              "      <td>107.918701</td>\n",
              "    </tr>\n",
              "    <tr>\n",
              "      <th>17</th>\n",
              "      <td>1M_Avg_Temperature</td>\n",
              "      <td>107.918992</td>\n",
              "    </tr>\n",
              "    <tr>\n",
              "      <th>4</th>\n",
              "      <td>Month</td>\n",
              "      <td>107.918997</td>\n",
              "    </tr>\n",
              "    <tr>\n",
              "      <th>19</th>\n",
              "      <td>1M_Snow_onGround</td>\n",
              "      <td>107.919014</td>\n",
              "    </tr>\n",
              "    <tr>\n",
              "      <th>24</th>\n",
              "      <td>1Yr_Toronto_ConstructionCompletionsUnits</td>\n",
              "      <td>107.919016</td>\n",
              "    </tr>\n",
              "    <tr>\n",
              "      <th>18</th>\n",
              "      <td>1Yr_Avg_Temp</td>\n",
              "      <td>107.919036</td>\n",
              "    </tr>\n",
              "    <tr>\n",
              "      <th>25</th>\n",
              "      <td>1M_Toronto_ConstructionStartsUnits</td>\n",
              "      <td>108.171016</td>\n",
              "    </tr>\n",
              "    <tr>\n",
              "      <th>20</th>\n",
              "      <td>1Yr_Snow_onGround</td>\n",
              "      <td>108.236978</td>\n",
              "    </tr>\n",
              "    <tr>\n",
              "      <th>26</th>\n",
              "      <td>1Yr_Toronto_ConstructionStartsUnits</td>\n",
              "      <td>108.264620</td>\n",
              "    </tr>\n",
              "    <tr>\n",
              "      <th>23</th>\n",
              "      <td>1M_Toronto_ConstructionCompletionsUnits</td>\n",
              "      <td>108.342550</td>\n",
              "    </tr>\n",
              "    <tr>\n",
              "      <th>27</th>\n",
              "      <td>1M_Toronto_UnempRate_15_54_yrs</td>\n",
              "      <td>116.386766</td>\n",
              "    </tr>\n",
              "  </tbody>\n",
              "</table>\n",
              "</div>"
            ],
            "text/plain": [
              "                                             col_name  rmse_score\n",
              "6                                              1M_Lag    2.314117\n",
              "2                        1Yr_MetroOntario_CPI_Shelter    5.089784\n",
              "3                         1M_MetroOntario_CPI_Shelter    7.219846\n",
              "11                     1Yr_Montreal_Single_Family_HPI   10.116904\n",
              "0                            1Yr_MetroOntario_CPI_All   10.632416\n",
              "5                                             1Yr_Lag   12.640199\n",
              "1                             1M_MetroOntario_CPI_all   15.436318\n",
              "34                                               Year   16.531603\n",
              "13  1M_RealEstate_GDP_Trading_AdjustedConstant_Bas...   17.366318\n",
              "32                                    1M_S&P500_Close   20.073721\n",
              "15                            1Yr_RetailSales_Toronto   22.099426\n",
              "14  1Yr_RealEstate_GDP_Trading_AdjustedConstant_Ba...   22.456560\n",
              "30                                      1M_Population   25.287388\n",
              "31                                    1Y_S&P500_Close   26.125611\n",
              "7             1Yr_GreaterVancounver_Single_Family_HPI   29.903146\n",
              "12                      1M_Montreal_Single_Family_HPI   30.492100\n",
              "8              1M_GreaterVancounver_Single_Family_HPI   35.992265\n",
              "16                             1M_RetailSales_Toronto   44.592955\n",
              "22  1Yr_Toronto_Median_Annual_Income_Lone_Parent_F...   82.598578\n",
              "9                       1Yr_Calgary_Single_Family_HPI   83.512812\n",
              "21   1Yr_Toronto_Median_Annual_Income_Couple_Families   84.691038\n",
              "10                       1M_Calgary_Single_Family_HPI   90.300156\n",
              "29                                 1M_BankRate_Canada  102.302014\n",
              "28                                1Yr_BankRate_Canada  106.853925\n",
              "33                 1Y_Bachelors_Degree_Ontario_NewReg  107.918701\n",
              "17                                 1M_Avg_Temperature  107.918992\n",
              "4                                               Month  107.918997\n",
              "19                                   1M_Snow_onGround  107.919014\n",
              "24           1Yr_Toronto_ConstructionCompletionsUnits  107.919016\n",
              "18                                       1Yr_Avg_Temp  107.919036\n",
              "25                 1M_Toronto_ConstructionStartsUnits  108.171016\n",
              "20                                  1Yr_Snow_onGround  108.236978\n",
              "26                1Yr_Toronto_ConstructionStartsUnits  108.264620\n",
              "23            1M_Toronto_ConstructionCompletionsUnits  108.342550\n",
              "27                     1M_Toronto_UnempRate_15_54_yrs  116.386766"
            ]
          },
          "metadata": {
            "tags": []
          }
        }
      ]
    },
    {
      "cell_type": "code",
      "metadata": {
        "colab": {
          "base_uri": "https://localhost:8080/"
        },
        "id": "yM6RO1Aobn8y",
        "outputId": "91b62fbc-a3bb-4719-deb7-4f9200bb8c82"
      },
      "source": [
        "print(X_train_sel.shape)\n",
        "print(X_test_sel.shape)"
      ],
      "execution_count": 13,
      "outputs": [
        {
          "output_type": "stream",
          "text": [
            "(153, 35)\n",
            "(27, 35)\n"
          ],
          "name": "stdout"
        }
      ]
    },
    {
      "cell_type": "code",
      "metadata": {
        "colab": {
          "base_uri": "https://localhost:8080/"
        },
        "id": "_VCtJArdj_qu",
        "outputId": "115a9b44-961b-438f-a1c5-f02b36ba29bf"
      },
      "source": [
        "# Feature selction stage 2\n",
        "X_train_final, X_test_final = feat_selection_step_2(X_train_sel,X_test_sel, threshold = 0.4)"
      ],
      "execution_count": 14,
      "outputs": [
        {
          "output_type": "stream",
          "text": [
            "Dropped: 1Yr_MetroOntario_CPI_Shelter\n",
            "Dropped: 1M_MetroOntario_CPI_Shelter\n",
            "Dropped: 1Yr_Montreal_Single_Family_HPI\n",
            "Dropped: 1Yr_MetroOntario_CPI_All\n",
            "Dropped: 1Yr_Lag\n",
            "Dropped: 1M_MetroOntario_CPI_all\n",
            "Dropped: 1M_RealEstate_GDP_Trading_AdjustedConstant_BasePrice\n",
            "Dropped: 1M_S&P500_Close\n",
            "Dropped: 1Yr_RetailSales_Toronto\n",
            "Dropped: 1Yr_RealEstate_GDP_Trading_AdjustedConstant_BasePrice\n",
            "Dropped: 1M_Population\n",
            "Dropped: 1Y_S&P500_Close\n",
            "Dropped: 1Yr_GreaterVancounver_Single_Family_HPI\n",
            "Dropped: 1M_Montreal_Single_Family_HPI\n",
            "Dropped: 1M_GreaterVancounver_Single_Family_HPI\n",
            "Dropped: 1M_RetailSales_Toronto\n",
            "Dropped: 1Yr_Toronto_Median_Annual_Income_Lone_Parent_Families\n",
            "Dropped: 1Yr_Calgary_Single_Family_HPI\n",
            "Dropped: 1Yr_Toronto_Median_Annual_Income_Couple_Families\n",
            "Dropped: 1M_Calgary_Single_Family_HPI\n",
            "Dropped: 1Yr_BankRate_Canada\n",
            "Dropped: Month\n",
            "Dropped: 1Yr_Avg_Temp\n"
          ],
          "name": "stdout"
        }
      ]
    },
    {
      "cell_type": "code",
      "metadata": {
        "colab": {
          "base_uri": "https://localhost:8080/"
        },
        "id": "Fk7MN_Waa06e",
        "outputId": "4f518b9f-8830-4999-91f6-6a617e12e841"
      },
      "source": [
        "print(X_train_final.shape)\n",
        "print(X_test_final.shape)"
      ],
      "execution_count": 16,
      "outputs": [
        {
          "output_type": "stream",
          "text": [
            "(153, 12)\n",
            "(27, 12)\n"
          ],
          "name": "stdout"
        }
      ]
    },
    {
      "cell_type": "markdown",
      "metadata": {
        "id": "7jhz7N8kkfCG"
      },
      "source": [
        "#Hyperparameter tuning"
      ]
    },
    {
      "cell_type": "code",
      "metadata": {
        "id": "GYe9F-rPkR93"
      },
      "source": [
        "params = [{\n",
        "#     XGRegessor\n",
        "    'learning_rate': [i/10.0 for i in range(0,10)],\n",
        "    'n_estimators': range(0,400,50),\n",
        "    'max_depth':range(1,8,1),\n",
        "    'gamma':[i/10.0 for i in range(0,5)],\n",
        "        },\n",
        "    { \n",
        "#     BaysianRidge\n",
        "    'alpha_1': [0.00001, 0.0001, 0.001, 0.01, 0.1, 1, 10, 100, 1000],\n",
        "    'alpha_2': [0.00001, 0.0001, 0.001, 0.01, 0.1, 1, 10, 100, 1000],\n",
        "    'fit_intercept': [True, False],    \n",
        "    }]"
      ],
      "execution_count": 17,
      "outputs": []
    },
    {
      "cell_type": "code",
      "metadata": {
        "colab": {
          "base_uri": "https://localhost:8080/"
        },
        "id": "WVTYZlN1kjYw",
        "outputId": "2f735842-59a5-4e87-840f-27840ef923d3"
      },
      "source": [
        "folds = 3\n",
        "\n",
        "tuned_params, tuned_model = tuner(params=params[model_num - 1], folds=folds, model=model, X_train=X_train_final, y_train=y_train)\n",
        "\n",
        "# Retrain tuned model and test RMSE\n",
        "tuned_model = tuned_model.fit(X_train_final,y_train)\n",
        "df_test_results = predict_test_values(tuned_model, X_test_final, y_test, X_test_date, X_train_final, y_train)"
      ],
      "execution_count": 18,
      "outputs": [
        {
          "output_type": "stream",
          "text": [
            "Fitting 3 folds for each of 3 candidates, totalling 9 fits\n"
          ],
          "name": "stdout"
        },
        {
          "output_type": "stream",
          "text": [
            "[Parallel(n_jobs=4)]: Using backend LokyBackend with 4 concurrent workers.\n"
          ],
          "name": "stderr"
        },
        {
          "output_type": "stream",
          "text": [
            "\n",
            "Best hyperparameters:  {'fit_intercept': True, 'alpha_2': 0.001, 'alpha_1': 10} \n",
            "Best Score:  -2.737504181562258\n",
            "RMSE of Test Data: 2.729509926890058\n",
            "Adjusted R2 of Train Data: 0.9973814013654163\n",
            "R2 of Test Data: 0.9724999475059648\n"
          ],
          "name": "stdout"
        },
        {
          "output_type": "stream",
          "text": [
            "[Parallel(n_jobs=4)]: Done   6 out of   9 | elapsed:    2.6s remaining:    1.3s\n",
            "[Parallel(n_jobs=4)]: Done   9 out of   9 | elapsed:    2.6s finished\n"
          ],
          "name": "stderr"
        }
      ]
    },
    {
      "cell_type": "markdown",
      "metadata": {
        "id": "zA_nycTpwiDr"
      },
      "source": [
        "#Re-train Optimized Model"
      ]
    },
    {
      "cell_type": "code",
      "metadata": {
        "id": "tzX8Ccf9wf5O"
      },
      "source": [
        "model = tuned_model.fit(X_train_final,y_train)"
      ],
      "execution_count": 19,
      "outputs": []
    },
    {
      "cell_type": "code",
      "metadata": {
        "id": "V5cmeYpHknMt",
        "colab": {
          "base_uri": "https://localhost:8080/",
          "height": 577
        },
        "outputId": "24617725-b3ef-4260-ca74-70d2f3b68405"
      },
      "source": [
        "df_test_results = predict_test_values(model, X_test_final, y_test, X_test_date, X_train_final, y_train)\n",
        "plt.rcParams[\"figure.figsize\"] = (25,8)\n",
        "plot_test_results(df_test_results, model_num)"
      ],
      "execution_count": 20,
      "outputs": [
        {
          "output_type": "stream",
          "text": [
            "RMSE of Test Data: 2.729509926890058\n",
            "Adjusted R2 of Train Data: 0.9973814013654163\n",
            "R2 of Test Data: 0.9724999475059648\n"
          ],
          "name": "stdout"
        },
        {
          "output_type": "display_data",
          "data": {
            "image/png": "[encoded data removed]",
            "text/plain": [
              "<Figure size 1800x576 with 1 Axes>"
            ]
          },
          "metadata": {
            "tags": [],
            "needs_background": "light"
          }
        }
      ]
    },
    {
      "cell_type": "code",
      "metadata": {
        "colab": {
          "base_uri": "https://localhost:8080/"
        },
        "id": "ahUYo6QUwmYu",
        "outputId": "6232fa89-03e7-4bdf-cc7b-bf8ce73be07a"
      },
      "source": [
        "print ('Columns to use for Feature Selection Slides')\n",
        "X_train_final.columns"
      ],
      "execution_count": 21,
      "outputs": [
        {
          "output_type": "stream",
          "text": [
            "Columns to use for Feature Selection Slides\n"
          ],
          "name": "stdout"
        },
        {
          "output_type": "execute_result",
          "data": {
            "text/plain": [
              "Index(['1M_Lag', 'Year', '1M_BankRate_Canada',\n",
              "       '1Y_Bachelors_Degree_Ontario_NewReg', '1M_Avg_Temperature',\n",
              "       '1M_Snow_onGround', '1Yr_Toronto_ConstructionCompletionsUnits',\n",
              "       '1M_Toronto_ConstructionStartsUnits', '1Yr_Snow_onGround',\n",
              "       '1Yr_Toronto_ConstructionStartsUnits',\n",
              "       '1M_Toronto_ConstructionCompletionsUnits',\n",
              "       '1M_Toronto_UnempRate_15_54_yrs'],\n",
              "      dtype='object')"
            ]
          },
          "metadata": {
            "tags": []
          },
          "execution_count": 21
        }
      ]
    },
    {
      "cell_type": "code",
      "metadata": {
        "id": "A0uPbA6vw8zr"
      },
      "source": [
        "pd.DataFrame(list(zip(X_train_final.columns,model.coef_))).to_csv('bayesian_feature_selection_coef2.csv')"
      ],
      "execution_count": 22,
      "outputs": []
    },
    {
      "cell_type": "code",
      "metadata": {
        "colab": {
          "base_uri": "https://localhost:8080/"
        },
        "id": "yGiXoPbHw-3r",
        "outputId": "c01ca2c4-215d-4b8d-cad8-358edb2eb049"
      },
      "source": [
        "model.intercept_"
      ],
      "execution_count": 23,
      "outputs": [
        {
          "output_type": "execute_result",
          "data": {
            "text/plain": [
              "-369.6548062572192"
            ]
          },
          "metadata": {
            "tags": []
          },
          "execution_count": 23
        }
      ]
    },
    {
      "cell_type": "code",
      "metadata": {
        "colab": {
          "base_uri": "https://localhost:8080/"
        },
        "id": "F8ulUBaxxAZb",
        "outputId": "a1b0af37-e2ba-4e44-8e16-9f471d3a2795"
      },
      "source": [
        "list(zip(X_train_final.columns,model.coef_))"
      ],
      "execution_count": 24,
      "outputs": [
        {
          "output_type": "execute_result",
          "data": {
            "text/plain": [
              "[('1M_Lag', 0.991242769751657),\n",
              " ('Year', 0.1839884949034031),\n",
              " ('1M_BankRate_Canada', -0.07594593506637284),\n",
              " ('1Y_Bachelors_Degree_Ontario_NewReg', 3.9093317738167096e-05),\n",
              " ('1M_Avg_Temperature', -0.13526541733133113),\n",
              " ('1M_Snow_onGround', -0.4675246816766884),\n",
              " ('1Yr_Toronto_ConstructionCompletionsUnits', 8.557484184736247e-05),\n",
              " ('1M_Toronto_ConstructionStartsUnits', 0.00012381832925826105),\n",
              " ('1Yr_Snow_onGround', -0.7231132771647851),\n",
              " ('1Yr_Toronto_ConstructionStartsUnits', 0.0002720146933552944),\n",
              " ('1M_Toronto_ConstructionCompletionsUnits', 0.00023876674515521806),\n",
              " ('1M_Toronto_UnempRate_15_54_yrs', 0.12034531855407037)]"
            ]
          },
          "metadata": {
            "tags": []
          },
          "execution_count": 24
        }
      ]
    },
    {
      "cell_type": "code",
      "metadata": {
        "id": "8VigERnXxDkM"
      },
      "source": [
        ""
      ],
      "execution_count": null,
      "outputs": []
    }
  ]
}